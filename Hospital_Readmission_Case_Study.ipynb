{
 "cells": [
  {
   "cell_type": "markdown",
   "id": "f1cd9089",
   "metadata": {},
   "source": [
    "# Problem Statement\n",
    "## Impact of Medication for Lifestyle Diseases on Hospital Readmission-\n",
    "Management of lifestyle diseases in hospitalized patients has a significant bearing on outcome,in terms of both morbidity and mortality.\n",
    "The main objective for this problem is to predict whether a  patient is likely to be readmitted to hospital based on the previous details of the patient."
   ]
  },
  {
   "cell_type": "code",
   "execution_count": 1,
   "id": "817dae2d",
   "metadata": {},
   "outputs": [],
   "source": [
    "## import necessary libraries\n",
    "import pandas as pd\n",
    "import numpy as np\n",
    "import matplotlib.pyplot as plt\n",
    "import seaborn as sns"
   ]
  },
  {
   "cell_type": "markdown",
   "id": "4a287d77",
   "metadata": {},
   "source": [
    "## Data Understanding"
   ]
  },
  {
   "cell_type": "code",
   "execution_count": 2,
   "id": "26fca9f0",
   "metadata": {},
   "outputs": [],
   "source": [
    "# read the data\n",
    "Readmission = pd.read_csv(\"hospital_readmission.csv\")"
   ]
  },
  {
   "cell_type": "code",
   "execution_count": 3,
   "id": "237cd8f8",
   "metadata": {},
   "outputs": [
    {
     "data": {
      "text/plain": [
       "66587"
      ]
     },
     "execution_count": 3,
     "metadata": {},
     "output_type": "execute_result"
    }
   ],
   "source": [
    "#Total number of rows\n",
    "len(Readmission)"
   ]
  },
  {
   "cell_type": "code",
   "execution_count": 4,
   "id": "82cc28da",
   "metadata": {},
   "outputs": [
    {
     "data": {
      "text/plain": [
       "(66587, 49)"
      ]
     },
     "execution_count": 4,
     "metadata": {},
     "output_type": "execute_result"
    }
   ],
   "source": [
    "# Shape of data\n",
    "Readmission.shape"
   ]
  },
  {
   "cell_type": "code",
   "execution_count": 5,
   "id": "b490c289",
   "metadata": {},
   "outputs": [
    {
     "name": "stdout",
     "output_type": "stream",
     "text": [
      "<class 'pandas.core.frame.DataFrame'>\n",
      "RangeIndex: 66587 entries, 0 to 66586\n",
      "Data columns (total 49 columns):\n",
      " #   Column              Non-Null Count  Dtype  \n",
      "---  ------              --------------  -----  \n",
      " 0   index               66587 non-null  int64  \n",
      " 1   encounter_id        66587 non-null  int64  \n",
      " 2   patient_id          66587 non-null  int64  \n",
      " 3   race                66587 non-null  object \n",
      " 4   gender              66587 non-null  object \n",
      " 5   age                 66587 non-null  object \n",
      " 6   weight              66587 non-null  object \n",
      " 7   time_in_hospital    66587 non-null  int64  \n",
      " 8   medical_specialty   66587 non-null  object \n",
      " 9   num_lab_procedures  66587 non-null  int64  \n",
      " 10  num_procedures      66587 non-null  int64  \n",
      " 11  num_medications     66587 non-null  int64  \n",
      " 12  number_outpatient   66587 non-null  int64  \n",
      " 13  number_emergency    66587 non-null  int64  \n",
      " 14  number_inpatient    66587 non-null  int64  \n",
      " 15  diag_1              66587 non-null  object \n",
      " 16  diag_2              66587 non-null  object \n",
      " 17  diag_3              66587 non-null  object \n",
      " 18  diag_4              66587 non-null  object \n",
      " 19  diag_5              66587 non-null  float64\n",
      " 20  number_diagnoses    66587 non-null  int64  \n",
      " 21  X1                  66587 non-null  object \n",
      " 22  X2                  66587 non-null  object \n",
      " 23  X3                  66587 non-null  object \n",
      " 24  X4                  66587 non-null  object \n",
      " 25  X5                  66587 non-null  object \n",
      " 26  X6                  66587 non-null  object \n",
      " 27  X7                  66587 non-null  object \n",
      " 28  X8                  66587 non-null  object \n",
      " 29  X9                  66587 non-null  object \n",
      " 30  X10                 66587 non-null  object \n",
      " 31  X11                 66587 non-null  object \n",
      " 32  X12                 66587 non-null  object \n",
      " 33  X13                 66587 non-null  object \n",
      " 34  X14                 66587 non-null  object \n",
      " 35  X15                 66587 non-null  object \n",
      " 36  X16                 66587 non-null  object \n",
      " 37  X17                 66587 non-null  object \n",
      " 38  X18                 66587 non-null  object \n",
      " 39  X19                 66587 non-null  object \n",
      " 40  X20                 66587 non-null  object \n",
      " 41  X21                 66587 non-null  object \n",
      " 42  X22                 66587 non-null  object \n",
      " 43  X23                 66587 non-null  object \n",
      " 44  X24                 66587 non-null  object \n",
      " 45  X25                 66587 non-null  object \n",
      " 46  change              66587 non-null  object \n",
      " 47  diabetesMed         66587 non-null  object \n",
      " 48  readmitted          66587 non-null  int64  \n",
      "dtypes: float64(1), int64(12), object(36)\n",
      "memory usage: 24.9+ MB\n"
     ]
    }
   ],
   "source": [
    "# Summary of data types and length of each columns\n",
    "Readmission.info()"
   ]
  },
  {
   "cell_type": "code",
   "execution_count": 6,
   "id": "dc4347d9",
   "metadata": {},
   "outputs": [
    {
     "data": {
      "text/html": [
       "<div>\n",
       "<style scoped>\n",
       "    .dataframe tbody tr th:only-of-type {\n",
       "        vertical-align: middle;\n",
       "    }\n",
       "\n",
       "    .dataframe tbody tr th {\n",
       "        vertical-align: top;\n",
       "    }\n",
       "\n",
       "    .dataframe thead th {\n",
       "        text-align: right;\n",
       "    }\n",
       "</style>\n",
       "<table border=\"1\" class=\"dataframe\">\n",
       "  <thead>\n",
       "    <tr style=\"text-align: right;\">\n",
       "      <th></th>\n",
       "      <th>index</th>\n",
       "      <th>encounter_id</th>\n",
       "      <th>patient_id</th>\n",
       "      <th>race</th>\n",
       "      <th>gender</th>\n",
       "      <th>age</th>\n",
       "      <th>weight</th>\n",
       "      <th>time_in_hospital</th>\n",
       "      <th>medical_specialty</th>\n",
       "      <th>num_lab_procedures</th>\n",
       "      <th>...</th>\n",
       "      <th>X19</th>\n",
       "      <th>X20</th>\n",
       "      <th>X21</th>\n",
       "      <th>X22</th>\n",
       "      <th>X23</th>\n",
       "      <th>X24</th>\n",
       "      <th>X25</th>\n",
       "      <th>change</th>\n",
       "      <th>diabetesMed</th>\n",
       "      <th>readmitted</th>\n",
       "    </tr>\n",
       "  </thead>\n",
       "  <tbody>\n",
       "    <tr>\n",
       "      <th>0</th>\n",
       "      <td>69375</td>\n",
       "      <td>197029140</td>\n",
       "      <td>51521940</td>\n",
       "      <td>Hispanic</td>\n",
       "      <td>Male</td>\n",
       "      <td>[80-90)</td>\n",
       "      <td>?</td>\n",
       "      <td>4</td>\n",
       "      <td>Emergency/Trauma</td>\n",
       "      <td>39</td>\n",
       "      <td>...</td>\n",
       "      <td>No</td>\n",
       "      <td>No</td>\n",
       "      <td>No</td>\n",
       "      <td>No</td>\n",
       "      <td>No</td>\n",
       "      <td>No</td>\n",
       "      <td>No</td>\n",
       "      <td>No</td>\n",
       "      <td>Yes</td>\n",
       "      <td>1</td>\n",
       "    </tr>\n",
       "    <tr>\n",
       "      <th>1</th>\n",
       "      <td>57272</td>\n",
       "      <td>163571946</td>\n",
       "      <td>92631357</td>\n",
       "      <td>Caucasian</td>\n",
       "      <td>Male</td>\n",
       "      <td>[60-70)</td>\n",
       "      <td>?</td>\n",
       "      <td>3</td>\n",
       "      <td>Emergency/Trauma</td>\n",
       "      <td>34</td>\n",
       "      <td>...</td>\n",
       "      <td>No</td>\n",
       "      <td>No</td>\n",
       "      <td>No</td>\n",
       "      <td>No</td>\n",
       "      <td>No</td>\n",
       "      <td>No</td>\n",
       "      <td>No</td>\n",
       "      <td>No</td>\n",
       "      <td>No</td>\n",
       "      <td>0</td>\n",
       "    </tr>\n",
       "    <tr>\n",
       "      <th>2</th>\n",
       "      <td>82347</td>\n",
       "      <td>256497366</td>\n",
       "      <td>30023982</td>\n",
       "      <td>Caucasian</td>\n",
       "      <td>Female</td>\n",
       "      <td>[50-60)</td>\n",
       "      <td>?</td>\n",
       "      <td>6</td>\n",
       "      <td>Nephrology</td>\n",
       "      <td>50</td>\n",
       "      <td>...</td>\n",
       "      <td>No</td>\n",
       "      <td>Down</td>\n",
       "      <td>No</td>\n",
       "      <td>No</td>\n",
       "      <td>No</td>\n",
       "      <td>No</td>\n",
       "      <td>No</td>\n",
       "      <td>Ch</td>\n",
       "      <td>Yes</td>\n",
       "      <td>1</td>\n",
       "    </tr>\n",
       "    <tr>\n",
       "      <th>3</th>\n",
       "      <td>89608</td>\n",
       "      <td>289891212</td>\n",
       "      <td>93606021</td>\n",
       "      <td>AfricanAmerican</td>\n",
       "      <td>Female</td>\n",
       "      <td>[70-80)</td>\n",
       "      <td>?</td>\n",
       "      <td>5</td>\n",
       "      <td>?</td>\n",
       "      <td>63</td>\n",
       "      <td>...</td>\n",
       "      <td>No</td>\n",
       "      <td>Down</td>\n",
       "      <td>No</td>\n",
       "      <td>No</td>\n",
       "      <td>No</td>\n",
       "      <td>No</td>\n",
       "      <td>No</td>\n",
       "      <td>Ch</td>\n",
       "      <td>Yes</td>\n",
       "      <td>1</td>\n",
       "    </tr>\n",
       "    <tr>\n",
       "      <th>4</th>\n",
       "      <td>24091</td>\n",
       "      <td>81873900</td>\n",
       "      <td>23464296</td>\n",
       "      <td>Caucasian</td>\n",
       "      <td>Male</td>\n",
       "      <td>[70-80)</td>\n",
       "      <td>?</td>\n",
       "      <td>9</td>\n",
       "      <td>Psychiatry</td>\n",
       "      <td>17</td>\n",
       "      <td>...</td>\n",
       "      <td>No</td>\n",
       "      <td>No</td>\n",
       "      <td>No</td>\n",
       "      <td>No</td>\n",
       "      <td>No</td>\n",
       "      <td>No</td>\n",
       "      <td>No</td>\n",
       "      <td>No</td>\n",
       "      <td>No</td>\n",
       "      <td>1</td>\n",
       "    </tr>\n",
       "  </tbody>\n",
       "</table>\n",
       "<p>5 rows × 49 columns</p>\n",
       "</div>"
      ],
      "text/plain": [
       "   index  encounter_id  patient_id             race  gender      age weight  \\\n",
       "0  69375     197029140    51521940         Hispanic    Male  [80-90)      ?   \n",
       "1  57272     163571946    92631357        Caucasian    Male  [60-70)      ?   \n",
       "2  82347     256497366    30023982        Caucasian  Female  [50-60)      ?   \n",
       "3  89608     289891212    93606021  AfricanAmerican  Female  [70-80)      ?   \n",
       "4  24091      81873900    23464296        Caucasian    Male  [70-80)      ?   \n",
       "\n",
       "   time_in_hospital medical_specialty  num_lab_procedures  ...  X19   X20  \\\n",
       "0                 4  Emergency/Trauma                  39  ...   No    No   \n",
       "1                 3  Emergency/Trauma                  34  ...   No    No   \n",
       "2                 6        Nephrology                  50  ...   No  Down   \n",
       "3                 5                 ?                  63  ...   No  Down   \n",
       "4                 9        Psychiatry                  17  ...   No    No   \n",
       "\n",
       "   X21  X22  X23 X24 X25 change diabetesMed  readmitted  \n",
       "0   No   No   No  No  No     No         Yes           1  \n",
       "1   No   No   No  No  No     No          No           0  \n",
       "2   No   No   No  No  No     Ch         Yes           1  \n",
       "3   No   No   No  No  No     Ch         Yes           1  \n",
       "4   No   No   No  No  No     No          No           1  \n",
       "\n",
       "[5 rows x 49 columns]"
      ]
     },
     "execution_count": 6,
     "metadata": {},
     "output_type": "execute_result"
    }
   ],
   "source": [
    "# Head and tail of data\n",
    "Readmission.head(5)"
   ]
  },
  {
   "cell_type": "code",
   "execution_count": 7,
   "id": "9dedebc4",
   "metadata": {},
   "outputs": [
    {
     "data": {
      "text/html": [
       "<div>\n",
       "<style scoped>\n",
       "    .dataframe tbody tr th:only-of-type {\n",
       "        vertical-align: middle;\n",
       "    }\n",
       "\n",
       "    .dataframe tbody tr th {\n",
       "        vertical-align: top;\n",
       "    }\n",
       "\n",
       "    .dataframe thead th {\n",
       "        text-align: right;\n",
       "    }\n",
       "</style>\n",
       "<table border=\"1\" class=\"dataframe\">\n",
       "  <thead>\n",
       "    <tr style=\"text-align: right;\">\n",
       "      <th></th>\n",
       "      <th>index</th>\n",
       "      <th>encounter_id</th>\n",
       "      <th>patient_id</th>\n",
       "      <th>race</th>\n",
       "      <th>gender</th>\n",
       "      <th>age</th>\n",
       "      <th>weight</th>\n",
       "      <th>time_in_hospital</th>\n",
       "      <th>medical_specialty</th>\n",
       "      <th>num_lab_procedures</th>\n",
       "      <th>...</th>\n",
       "      <th>X19</th>\n",
       "      <th>X20</th>\n",
       "      <th>X21</th>\n",
       "      <th>X22</th>\n",
       "      <th>X23</th>\n",
       "      <th>X24</th>\n",
       "      <th>X25</th>\n",
       "      <th>change</th>\n",
       "      <th>diabetesMed</th>\n",
       "      <th>readmitted</th>\n",
       "    </tr>\n",
       "  </thead>\n",
       "  <tbody>\n",
       "    <tr>\n",
       "      <th>66582</th>\n",
       "      <td>39934</td>\n",
       "      <td>124202466</td>\n",
       "      <td>23450508</td>\n",
       "      <td>Caucasian</td>\n",
       "      <td>Female</td>\n",
       "      <td>[70-80)</td>\n",
       "      <td>?</td>\n",
       "      <td>11</td>\n",
       "      <td>InternalMedicine</td>\n",
       "      <td>40</td>\n",
       "      <td>...</td>\n",
       "      <td>No</td>\n",
       "      <td>Steady</td>\n",
       "      <td>No</td>\n",
       "      <td>No</td>\n",
       "      <td>No</td>\n",
       "      <td>No</td>\n",
       "      <td>No</td>\n",
       "      <td>No</td>\n",
       "      <td>Yes</td>\n",
       "      <td>0</td>\n",
       "    </tr>\n",
       "    <tr>\n",
       "      <th>66583</th>\n",
       "      <td>47366</td>\n",
       "      <td>145667070</td>\n",
       "      <td>29324601</td>\n",
       "      <td>Caucasian</td>\n",
       "      <td>Male</td>\n",
       "      <td>[80-90)</td>\n",
       "      <td>?</td>\n",
       "      <td>4</td>\n",
       "      <td>?</td>\n",
       "      <td>39</td>\n",
       "      <td>...</td>\n",
       "      <td>No</td>\n",
       "      <td>No</td>\n",
       "      <td>No</td>\n",
       "      <td>No</td>\n",
       "      <td>No</td>\n",
       "      <td>No</td>\n",
       "      <td>No</td>\n",
       "      <td>No</td>\n",
       "      <td>No</td>\n",
       "      <td>1</td>\n",
       "    </tr>\n",
       "    <tr>\n",
       "      <th>66584</th>\n",
       "      <td>76555</td>\n",
       "      <td>231061116</td>\n",
       "      <td>2179062</td>\n",
       "      <td>Caucasian</td>\n",
       "      <td>Female</td>\n",
       "      <td>[60-70)</td>\n",
       "      <td>?</td>\n",
       "      <td>2</td>\n",
       "      <td>?</td>\n",
       "      <td>24</td>\n",
       "      <td>...</td>\n",
       "      <td>No</td>\n",
       "      <td>No</td>\n",
       "      <td>No</td>\n",
       "      <td>No</td>\n",
       "      <td>No</td>\n",
       "      <td>No</td>\n",
       "      <td>No</td>\n",
       "      <td>No</td>\n",
       "      <td>Yes</td>\n",
       "      <td>1</td>\n",
       "    </tr>\n",
       "    <tr>\n",
       "      <th>66585</th>\n",
       "      <td>25392</td>\n",
       "      <td>84911682</td>\n",
       "      <td>20531754</td>\n",
       "      <td>?</td>\n",
       "      <td>Female</td>\n",
       "      <td>[80-90)</td>\n",
       "      <td>?</td>\n",
       "      <td>4</td>\n",
       "      <td>InternalMedicine</td>\n",
       "      <td>39</td>\n",
       "      <td>...</td>\n",
       "      <td>No</td>\n",
       "      <td>No</td>\n",
       "      <td>No</td>\n",
       "      <td>No</td>\n",
       "      <td>No</td>\n",
       "      <td>No</td>\n",
       "      <td>No</td>\n",
       "      <td>No</td>\n",
       "      <td>No</td>\n",
       "      <td>0</td>\n",
       "    </tr>\n",
       "    <tr>\n",
       "      <th>66586</th>\n",
       "      <td>51312</td>\n",
       "      <td>153167502</td>\n",
       "      <td>81985473</td>\n",
       "      <td>Caucasian</td>\n",
       "      <td>Female</td>\n",
       "      <td>[80-90)</td>\n",
       "      <td>?</td>\n",
       "      <td>2</td>\n",
       "      <td>?</td>\n",
       "      <td>38</td>\n",
       "      <td>...</td>\n",
       "      <td>No</td>\n",
       "      <td>Steady</td>\n",
       "      <td>No</td>\n",
       "      <td>No</td>\n",
       "      <td>No</td>\n",
       "      <td>No</td>\n",
       "      <td>No</td>\n",
       "      <td>Ch</td>\n",
       "      <td>Yes</td>\n",
       "      <td>1</td>\n",
       "    </tr>\n",
       "  </tbody>\n",
       "</table>\n",
       "<p>5 rows × 49 columns</p>\n",
       "</div>"
      ],
      "text/plain": [
       "       index  encounter_id  patient_id       race  gender      age weight  \\\n",
       "66582  39934     124202466    23450508  Caucasian  Female  [70-80)      ?   \n",
       "66583  47366     145667070    29324601  Caucasian    Male  [80-90)      ?   \n",
       "66584  76555     231061116     2179062  Caucasian  Female  [60-70)      ?   \n",
       "66585  25392      84911682    20531754          ?  Female  [80-90)      ?   \n",
       "66586  51312     153167502    81985473  Caucasian  Female  [80-90)      ?   \n",
       "\n",
       "       time_in_hospital medical_specialty  num_lab_procedures  ...  X19  \\\n",
       "66582                11  InternalMedicine                  40  ...   No   \n",
       "66583                 4                 ?                  39  ...   No   \n",
       "66584                 2                 ?                  24  ...   No   \n",
       "66585                 4  InternalMedicine                  39  ...   No   \n",
       "66586                 2                 ?                  38  ...   No   \n",
       "\n",
       "          X20  X21  X22  X23 X24 X25 change diabetesMed  readmitted  \n",
       "66582  Steady   No   No   No  No  No     No         Yes           0  \n",
       "66583      No   No   No   No  No  No     No          No           1  \n",
       "66584      No   No   No   No  No  No     No         Yes           1  \n",
       "66585      No   No   No   No  No  No     No          No           0  \n",
       "66586  Steady   No   No   No  No  No     Ch         Yes           1  \n",
       "\n",
       "[5 rows x 49 columns]"
      ]
     },
     "execution_count": 7,
     "metadata": {},
     "output_type": "execute_result"
    }
   ],
   "source": [
    "Readmission.tail(5)"
   ]
  },
  {
   "cell_type": "code",
   "execution_count": 8,
   "id": "b4e0100b",
   "metadata": {},
   "outputs": [
    {
     "data": {
      "text/plain": [
       "index                   int64\n",
       "encounter_id            int64\n",
       "patient_id              int64\n",
       "race                   object\n",
       "gender                 object\n",
       "age                    object\n",
       "weight                 object\n",
       "time_in_hospital        int64\n",
       "medical_specialty      object\n",
       "num_lab_procedures      int64\n",
       "num_procedures          int64\n",
       "num_medications         int64\n",
       "number_outpatient       int64\n",
       "number_emergency        int64\n",
       "number_inpatient        int64\n",
       "diag_1                 object\n",
       "diag_2                 object\n",
       "diag_3                 object\n",
       "diag_4                 object\n",
       "diag_5                float64\n",
       "number_diagnoses        int64\n",
       "X1                     object\n",
       "X2                     object\n",
       "X3                     object\n",
       "X4                     object\n",
       "X5                     object\n",
       "X6                     object\n",
       "X7                     object\n",
       "X8                     object\n",
       "X9                     object\n",
       "X10                    object\n",
       "X11                    object\n",
       "X12                    object\n",
       "X13                    object\n",
       "X14                    object\n",
       "X15                    object\n",
       "X16                    object\n",
       "X17                    object\n",
       "X18                    object\n",
       "X19                    object\n",
       "X20                    object\n",
       "X21                    object\n",
       "X22                    object\n",
       "X23                    object\n",
       "X24                    object\n",
       "X25                    object\n",
       "change                 object\n",
       "diabetesMed            object\n",
       "readmitted              int64\n",
       "dtype: object"
      ]
     },
     "execution_count": 8,
     "metadata": {},
     "output_type": "execute_result"
    }
   ],
   "source": [
    "# data types of columns\n",
    "Readmission.dtypes"
   ]
  },
  {
   "cell_type": "code",
   "execution_count": 9,
   "id": "09c210c5",
   "metadata": {},
   "outputs": [
    {
     "data": {
      "text/plain": [
       "index                 48911\n",
       "encounter_id          48911\n",
       "patient_id            39650\n",
       "race                      6\n",
       "gender                    3\n",
       "age                      10\n",
       "weight                   10\n",
       "time_in_hospital         14\n",
       "medical_specialty        65\n",
       "num_lab_procedures      113\n",
       "num_procedures            7\n",
       "num_medications          71\n",
       "number_outpatient        33\n",
       "number_emergency         26\n",
       "number_inpatient         19\n",
       "diag_1                  652\n",
       "diag_2                  656\n",
       "diag_3                  707\n",
       "diag_4                  707\n",
       "diag_5                48911\n",
       "number_diagnoses         16\n",
       "X1                        4\n",
       "X2                        4\n",
       "X3                        4\n",
       "X4                        4\n",
       "X5                        4\n",
       "X6                        3\n",
       "X7                        4\n",
       "X8                        1\n",
       "X9                        4\n",
       "X10                       4\n",
       "X11                       2\n",
       "X12                       4\n",
       "X13                       4\n",
       "X14                       4\n",
       "X15                       3\n",
       "X16                       2\n",
       "X17                       2\n",
       "X18                       1\n",
       "X19                       1\n",
       "X20                       4\n",
       "X21                       4\n",
       "X22                       2\n",
       "X23                       2\n",
       "X24                       2\n",
       "X25                       1\n",
       "change                    2\n",
       "diabetesMed               2\n",
       "readmitted                2\n",
       "dtype: int64"
      ]
     },
     "execution_count": 9,
     "metadata": {},
     "output_type": "execute_result"
    }
   ],
   "source": [
    "# Finding unique values in data\n",
    "Readmission.nunique()"
   ]
  },
  {
   "cell_type": "code",
   "execution_count": 10,
   "id": "77b4065e",
   "metadata": {},
   "outputs": [
    {
     "data": {
      "text/plain": [
       "<AxesSubplot:xlabel='readmitted'>"
      ]
     },
     "execution_count": 10,
     "metadata": {},
     "output_type": "execute_result"
    },
    {
     "data": {
      "image/png": "[encoded data removed]",
      "text/plain": [
       "<Figure size 288x216 with 1 Axes>"
      ]
     },
     "metadata": {
      "needs_background": "light"
     },
     "output_type": "display_data"
    }
   ],
   "source": [
    "# Distribution of target variable\n",
    "GroupedData=Readmission.groupby('readmitted').size()\n",
    "GroupedData.plot(kind='bar', figsize=(4,3))"
   ]
  },
  {
   "cell_type": "code",
   "execution_count": 11,
   "id": "3c11698a",
   "metadata": {},
   "outputs": [
    {
     "data": {
      "text/plain": [
       "0    53.79879\n",
       "1    46.20121\n",
       "Name: readmitted, dtype: float64"
      ]
     },
     "execution_count": 11,
     "metadata": {},
     "output_type": "execute_result"
    }
   ],
   "source": [
    "# percentage distribution of categories of target column\n",
    "(Readmission['readmitted'].value_counts()/len(Readmission))*100"
   ]
  },
  {
   "cell_type": "markdown",
   "id": "967c8825",
   "metadata": {},
   "source": [
    "From above it is visible that, the 'readmitted' column is mostly evenly distributed across the categories"
   ]
  },
  {
   "cell_type": "markdown",
   "id": "2c0b854b",
   "metadata": {},
   "source": [
    "## Exploratory data analysis"
   ]
  },
  {
   "cell_type": "markdown",
   "id": "0170138d",
   "metadata": {},
   "source": [
    "### Summary statistics"
   ]
  },
  {
   "cell_type": "code",
   "execution_count": 12,
   "id": "f678da40",
   "metadata": {},
   "outputs": [
    {
     "data": {
      "text/html": [
       "<div>\n",
       "<style scoped>\n",
       "    .dataframe tbody tr th:only-of-type {\n",
       "        vertical-align: middle;\n",
       "    }\n",
       "\n",
       "    .dataframe tbody tr th {\n",
       "        vertical-align: top;\n",
       "    }\n",
       "\n",
       "    .dataframe thead th {\n",
       "        text-align: right;\n",
       "    }\n",
       "</style>\n",
       "<table border=\"1\" class=\"dataframe\">\n",
       "  <thead>\n",
       "    <tr style=\"text-align: right;\">\n",
       "      <th></th>\n",
       "      <th>index</th>\n",
       "      <th>encounter_id</th>\n",
       "      <th>patient_id</th>\n",
       "      <th>race</th>\n",
       "      <th>gender</th>\n",
       "      <th>age</th>\n",
       "      <th>weight</th>\n",
       "      <th>time_in_hospital</th>\n",
       "      <th>medical_specialty</th>\n",
       "      <th>num_lab_procedures</th>\n",
       "      <th>...</th>\n",
       "      <th>X19</th>\n",
       "      <th>X20</th>\n",
       "      <th>X21</th>\n",
       "      <th>X22</th>\n",
       "      <th>X23</th>\n",
       "      <th>X24</th>\n",
       "      <th>X25</th>\n",
       "      <th>change</th>\n",
       "      <th>diabetesMed</th>\n",
       "      <th>readmitted</th>\n",
       "    </tr>\n",
       "  </thead>\n",
       "  <tbody>\n",
       "    <tr>\n",
       "      <th>count</th>\n",
       "      <td>66587.000000</td>\n",
       "      <td>6.658700e+04</td>\n",
       "      <td>6.658700e+04</td>\n",
       "      <td>66587</td>\n",
       "      <td>66587</td>\n",
       "      <td>66587</td>\n",
       "      <td>66587</td>\n",
       "      <td>66587.000000</td>\n",
       "      <td>66587</td>\n",
       "      <td>66587.000000</td>\n",
       "      <td>...</td>\n",
       "      <td>66587</td>\n",
       "      <td>66587</td>\n",
       "      <td>66587</td>\n",
       "      <td>66587</td>\n",
       "      <td>66587</td>\n",
       "      <td>66587</td>\n",
       "      <td>66587</td>\n",
       "      <td>66587</td>\n",
       "      <td>66587</td>\n",
       "      <td>66587.000000</td>\n",
       "    </tr>\n",
       "    <tr>\n",
       "      <th>unique</th>\n",
       "      <td>NaN</td>\n",
       "      <td>NaN</td>\n",
       "      <td>NaN</td>\n",
       "      <td>6</td>\n",
       "      <td>3</td>\n",
       "      <td>10</td>\n",
       "      <td>10</td>\n",
       "      <td>NaN</td>\n",
       "      <td>65</td>\n",
       "      <td>NaN</td>\n",
       "      <td>...</td>\n",
       "      <td>1</td>\n",
       "      <td>4</td>\n",
       "      <td>4</td>\n",
       "      <td>2</td>\n",
       "      <td>2</td>\n",
       "      <td>2</td>\n",
       "      <td>1</td>\n",
       "      <td>2</td>\n",
       "      <td>2</td>\n",
       "      <td>NaN</td>\n",
       "    </tr>\n",
       "    <tr>\n",
       "      <th>top</th>\n",
       "      <td>NaN</td>\n",
       "      <td>NaN</td>\n",
       "      <td>NaN</td>\n",
       "      <td>Caucasian</td>\n",
       "      <td>Female</td>\n",
       "      <td>[70-80)</td>\n",
       "      <td>?</td>\n",
       "      <td>NaN</td>\n",
       "      <td>?</td>\n",
       "      <td>NaN</td>\n",
       "      <td>...</td>\n",
       "      <td>No</td>\n",
       "      <td>No</td>\n",
       "      <td>No</td>\n",
       "      <td>No</td>\n",
       "      <td>No</td>\n",
       "      <td>No</td>\n",
       "      <td>No</td>\n",
       "      <td>No</td>\n",
       "      <td>Yes</td>\n",
       "      <td>NaN</td>\n",
       "    </tr>\n",
       "    <tr>\n",
       "      <th>freq</th>\n",
       "      <td>NaN</td>\n",
       "      <td>NaN</td>\n",
       "      <td>NaN</td>\n",
       "      <td>49906</td>\n",
       "      <td>35973</td>\n",
       "      <td>17031</td>\n",
       "      <td>64454</td>\n",
       "      <td>NaN</td>\n",
       "      <td>32672</td>\n",
       "      <td>NaN</td>\n",
       "      <td>...</td>\n",
       "      <td>66587</td>\n",
       "      <td>31175</td>\n",
       "      <td>66110</td>\n",
       "      <td>66575</td>\n",
       "      <td>66586</td>\n",
       "      <td>66582</td>\n",
       "      <td>66587</td>\n",
       "      <td>35894</td>\n",
       "      <td>51205</td>\n",
       "      <td>NaN</td>\n",
       "    </tr>\n",
       "    <tr>\n",
       "      <th>mean</th>\n",
       "      <td>50903.474282</td>\n",
       "      <td>1.653153e+08</td>\n",
       "      <td>5.422970e+07</td>\n",
       "      <td>NaN</td>\n",
       "      <td>NaN</td>\n",
       "      <td>NaN</td>\n",
       "      <td>NaN</td>\n",
       "      <td>4.397510</td>\n",
       "      <td>NaN</td>\n",
       "      <td>43.115533</td>\n",
       "      <td>...</td>\n",
       "      <td>NaN</td>\n",
       "      <td>NaN</td>\n",
       "      <td>NaN</td>\n",
       "      <td>NaN</td>\n",
       "      <td>NaN</td>\n",
       "      <td>NaN</td>\n",
       "      <td>NaN</td>\n",
       "      <td>NaN</td>\n",
       "      <td>NaN</td>\n",
       "      <td>0.462012</td>\n",
       "    </tr>\n",
       "    <tr>\n",
       "      <th>std</th>\n",
       "      <td>29480.255515</td>\n",
       "      <td>1.030035e+08</td>\n",
       "      <td>3.878819e+07</td>\n",
       "      <td>NaN</td>\n",
       "      <td>NaN</td>\n",
       "      <td>NaN</td>\n",
       "      <td>NaN</td>\n",
       "      <td>2.980995</td>\n",
       "      <td>NaN</td>\n",
       "      <td>19.630417</td>\n",
       "      <td>...</td>\n",
       "      <td>NaN</td>\n",
       "      <td>NaN</td>\n",
       "      <td>NaN</td>\n",
       "      <td>NaN</td>\n",
       "      <td>NaN</td>\n",
       "      <td>NaN</td>\n",
       "      <td>NaN</td>\n",
       "      <td>NaN</td>\n",
       "      <td>NaN</td>\n",
       "      <td>0.498559</td>\n",
       "    </tr>\n",
       "    <tr>\n",
       "      <th>min</th>\n",
       "      <td>0.000000</td>\n",
       "      <td>1.573800e+04</td>\n",
       "      <td>1.350000e+02</td>\n",
       "      <td>NaN</td>\n",
       "      <td>NaN</td>\n",
       "      <td>NaN</td>\n",
       "      <td>NaN</td>\n",
       "      <td>1.000000</td>\n",
       "      <td>NaN</td>\n",
       "      <td>1.000000</td>\n",
       "      <td>...</td>\n",
       "      <td>NaN</td>\n",
       "      <td>NaN</td>\n",
       "      <td>NaN</td>\n",
       "      <td>NaN</td>\n",
       "      <td>NaN</td>\n",
       "      <td>NaN</td>\n",
       "      <td>NaN</td>\n",
       "      <td>NaN</td>\n",
       "      <td>NaN</td>\n",
       "      <td>0.000000</td>\n",
       "    </tr>\n",
       "    <tr>\n",
       "      <th>25%</th>\n",
       "      <td>25166.500000</td>\n",
       "      <td>8.440328e+07</td>\n",
       "      <td>2.338646e+07</td>\n",
       "      <td>NaN</td>\n",
       "      <td>NaN</td>\n",
       "      <td>NaN</td>\n",
       "      <td>NaN</td>\n",
       "      <td>2.000000</td>\n",
       "      <td>NaN</td>\n",
       "      <td>31.000000</td>\n",
       "      <td>...</td>\n",
       "      <td>NaN</td>\n",
       "      <td>NaN</td>\n",
       "      <td>NaN</td>\n",
       "      <td>NaN</td>\n",
       "      <td>NaN</td>\n",
       "      <td>NaN</td>\n",
       "      <td>NaN</td>\n",
       "      <td>NaN</td>\n",
       "      <td>NaN</td>\n",
       "      <td>0.000000</td>\n",
       "    </tr>\n",
       "    <tr>\n",
       "      <th>50%</th>\n",
       "      <td>51129.000000</td>\n",
       "      <td>1.528504e+08</td>\n",
       "      <td>4.526103e+07</td>\n",
       "      <td>NaN</td>\n",
       "      <td>NaN</td>\n",
       "      <td>NaN</td>\n",
       "      <td>NaN</td>\n",
       "      <td>4.000000</td>\n",
       "      <td>NaN</td>\n",
       "      <td>44.000000</td>\n",
       "      <td>...</td>\n",
       "      <td>NaN</td>\n",
       "      <td>NaN</td>\n",
       "      <td>NaN</td>\n",
       "      <td>NaN</td>\n",
       "      <td>NaN</td>\n",
       "      <td>NaN</td>\n",
       "      <td>NaN</td>\n",
       "      <td>NaN</td>\n",
       "      <td>NaN</td>\n",
       "      <td>0.000000</td>\n",
       "    </tr>\n",
       "    <tr>\n",
       "      <th>75%</th>\n",
       "      <td>76380.000000</td>\n",
       "      <td>2.305049e+08</td>\n",
       "      <td>8.727185e+07</td>\n",
       "      <td>NaN</td>\n",
       "      <td>NaN</td>\n",
       "      <td>NaN</td>\n",
       "      <td>NaN</td>\n",
       "      <td>6.000000</td>\n",
       "      <td>NaN</td>\n",
       "      <td>57.000000</td>\n",
       "      <td>...</td>\n",
       "      <td>NaN</td>\n",
       "      <td>NaN</td>\n",
       "      <td>NaN</td>\n",
       "      <td>NaN</td>\n",
       "      <td>NaN</td>\n",
       "      <td>NaN</td>\n",
       "      <td>NaN</td>\n",
       "      <td>NaN</td>\n",
       "      <td>NaN</td>\n",
       "      <td>1.000000</td>\n",
       "    </tr>\n",
       "    <tr>\n",
       "      <th>max</th>\n",
       "      <td>101765.000000</td>\n",
       "      <td>4.438672e+08</td>\n",
       "      <td>1.893494e+08</td>\n",
       "      <td>NaN</td>\n",
       "      <td>NaN</td>\n",
       "      <td>NaN</td>\n",
       "      <td>NaN</td>\n",
       "      <td>14.000000</td>\n",
       "      <td>NaN</td>\n",
       "      <td>129.000000</td>\n",
       "      <td>...</td>\n",
       "      <td>NaN</td>\n",
       "      <td>NaN</td>\n",
       "      <td>NaN</td>\n",
       "      <td>NaN</td>\n",
       "      <td>NaN</td>\n",
       "      <td>NaN</td>\n",
       "      <td>NaN</td>\n",
       "      <td>NaN</td>\n",
       "      <td>NaN</td>\n",
       "      <td>1.000000</td>\n",
       "    </tr>\n",
       "  </tbody>\n",
       "</table>\n",
       "<p>11 rows × 49 columns</p>\n",
       "</div>"
      ],
      "text/plain": [
       "                index  encounter_id    patient_id       race  gender      age  \\\n",
       "count    66587.000000  6.658700e+04  6.658700e+04      66587   66587    66587   \n",
       "unique            NaN           NaN           NaN          6       3       10   \n",
       "top               NaN           NaN           NaN  Caucasian  Female  [70-80)   \n",
       "freq              NaN           NaN           NaN      49906   35973    17031   \n",
       "mean     50903.474282  1.653153e+08  5.422970e+07        NaN     NaN      NaN   \n",
       "std      29480.255515  1.030035e+08  3.878819e+07        NaN     NaN      NaN   \n",
       "min          0.000000  1.573800e+04  1.350000e+02        NaN     NaN      NaN   \n",
       "25%      25166.500000  8.440328e+07  2.338646e+07        NaN     NaN      NaN   \n",
       "50%      51129.000000  1.528504e+08  4.526103e+07        NaN     NaN      NaN   \n",
       "75%      76380.000000  2.305049e+08  8.727185e+07        NaN     NaN      NaN   \n",
       "max     101765.000000  4.438672e+08  1.893494e+08        NaN     NaN      NaN   \n",
       "\n",
       "       weight  time_in_hospital medical_specialty  num_lab_procedures  ...  \\\n",
       "count   66587      66587.000000             66587        66587.000000  ...   \n",
       "unique     10               NaN                65                 NaN  ...   \n",
       "top         ?               NaN                 ?                 NaN  ...   \n",
       "freq    64454               NaN             32672                 NaN  ...   \n",
       "mean      NaN          4.397510               NaN           43.115533  ...   \n",
       "std       NaN          2.980995               NaN           19.630417  ...   \n",
       "min       NaN          1.000000               NaN            1.000000  ...   \n",
       "25%       NaN          2.000000               NaN           31.000000  ...   \n",
       "50%       NaN          4.000000               NaN           44.000000  ...   \n",
       "75%       NaN          6.000000               NaN           57.000000  ...   \n",
       "max       NaN         14.000000               NaN          129.000000  ...   \n",
       "\n",
       "          X19    X20    X21    X22    X23    X24    X25 change diabetesMed  \\\n",
       "count   66587  66587  66587  66587  66587  66587  66587  66587       66587   \n",
       "unique      1      4      4      2      2      2      1      2           2   \n",
       "top        No     No     No     No     No     No     No     No         Yes   \n",
       "freq    66587  31175  66110  66575  66586  66582  66587  35894       51205   \n",
       "mean      NaN    NaN    NaN    NaN    NaN    NaN    NaN    NaN         NaN   \n",
       "std       NaN    NaN    NaN    NaN    NaN    NaN    NaN    NaN         NaN   \n",
       "min       NaN    NaN    NaN    NaN    NaN    NaN    NaN    NaN         NaN   \n",
       "25%       NaN    NaN    NaN    NaN    NaN    NaN    NaN    NaN         NaN   \n",
       "50%       NaN    NaN    NaN    NaN    NaN    NaN    NaN    NaN         NaN   \n",
       "75%       NaN    NaN    NaN    NaN    NaN    NaN    NaN    NaN         NaN   \n",
       "max       NaN    NaN    NaN    NaN    NaN    NaN    NaN    NaN         NaN   \n",
       "\n",
       "          readmitted  \n",
       "count   66587.000000  \n",
       "unique           NaN  \n",
       "top              NaN  \n",
       "freq             NaN  \n",
       "mean        0.462012  \n",
       "std         0.498559  \n",
       "min         0.000000  \n",
       "25%         0.000000  \n",
       "50%         0.000000  \n",
       "75%         1.000000  \n",
       "max         1.000000  \n",
       "\n",
       "[11 rows x 49 columns]"
      ]
     },
     "execution_count": 12,
     "metadata": {},
     "output_type": "execute_result"
    }
   ],
   "source": [
    "Readmission.describe(include = 'all')"
   ]
  },
  {
   "cell_type": "code",
   "execution_count": 13,
   "id": "ff438272",
   "metadata": {},
   "outputs": [
    {
     "name": "stdout",
     "output_type": "stream",
     "text": [
      "race 1504\n",
      "% of missing values 2.258699145478847\n",
      "weight 64454\n",
      "% of missing values 96.79667202306757\n",
      "medical_specialty 32672\n",
      "% of missing values 49.06663462838092\n",
      "diag_1 15\n",
      "% of missing values 0.02252691966900446\n",
      "diag_2 231\n",
      "% of missing values 0.3469145629026687\n",
      "diag_3 954\n",
      "% of missing values 1.4327120909486837\n",
      "diag_4 954\n",
      "% of missing values 1.4327120909486837\n"
     ]
    }
   ],
   "source": [
    "#Check for missing values\n",
    "for i in Readmission.columns:\n",
    "    if(Readmission[i][Readmission[i]=='?'].count()!=0):\n",
    "        print(i,Readmission[i][Readmission[i]=='?'].count())\n",
    "        print(\"% of missing values\",Readmission[i][Readmission[i]=='?'].count()/len(Readmission[i])*100)"
   ]
  },
  {
   "cell_type": "code",
   "execution_count": 14,
   "id": "ab6b7a73",
   "metadata": {},
   "outputs": [],
   "source": [
    "# Dropping off columns with >30% missing values\n",
    "Readmission.drop(['weight','medical_specialty'],axis = 1,inplace = True)\n"
   ]
  },
  {
   "cell_type": "code",
   "execution_count": 15,
   "id": "67093fc5",
   "metadata": {},
   "outputs": [],
   "source": [
    "# Replacing ? with blank\n",
    "Readmission['diag_1'] = np.where(Readmission['diag_1']=='?','NA',Readmission['diag_1'])\n",
    "Readmission['diag_2'] = np.where(Readmission['diag_2']=='?','NA',Readmission['diag_2'])"
   ]
  },
  {
   "cell_type": "code",
   "execution_count": 16,
   "id": "0af54a84",
   "metadata": {},
   "outputs": [],
   "source": [
    "Readmission['diag_3'] = np.where(Readmission['diag_3']=='?','NA',Readmission['diag_3'])\n",
    "Readmission['diag_4'] = np.where(Readmission['diag_4']=='?','NA',Readmission['diag_4'])\n",
    "Readmission['race'] = np.where(Readmission['race']=='?','NA',Readmission['race'])"
   ]
  },
  {
   "cell_type": "code",
   "execution_count": 17,
   "id": "a2b11bc9",
   "metadata": {},
   "outputs": [],
   "source": [
    "#Check for missing values again\n",
    "for i in Readmission.columns:\n",
    "    if(Readmission[i][Readmission[i]=='?'].count()!=0):\n",
    "        print(i,Readmission[i][Readmission[i]=='?'].count())\n",
    "        print(\"% of missing values\",Readmission[i][Readmission[i]=='?'].count()/len(Readmission[i])*100)"
   ]
  },
  {
   "cell_type": "code",
   "execution_count": 18,
   "id": "8a6b1658",
   "metadata": {},
   "outputs": [
    {
     "data": {
      "text/plain": [
       "Index(['index', 'encounter_id', 'patient_id', 'race', 'gender', 'age',\n",
       "       'time_in_hospital', 'num_lab_procedures', 'num_procedures',\n",
       "       'num_medications', 'number_outpatient', 'number_emergency',\n",
       "       'number_inpatient', 'diag_1', 'diag_2', 'diag_3', 'diag_4', 'diag_5',\n",
       "       'number_diagnoses', 'X1', 'X2', 'X3', 'X4', 'X5', 'X6', 'X7', 'X8',\n",
       "       'X9', 'X10', 'X11', 'X12', 'X13', 'X14', 'X15', 'X16', 'X17', 'X18',\n",
       "       'X19', 'X20', 'X21', 'X22', 'X23', 'X24', 'X25', 'change',\n",
       "       'diabetesMed', 'readmitted'],\n",
       "      dtype='object')"
      ]
     },
     "execution_count": 18,
     "metadata": {},
     "output_type": "execute_result"
    }
   ],
   "source": [
    "Readmission.columns"
   ]
  },
  {
   "cell_type": "markdown",
   "id": "bd988d71",
   "metadata": {},
   "source": [
    "### Univariate analysis"
   ]
  },
  {
   "cell_type": "code",
   "execution_count": 19,
   "id": "be687ca4",
   "metadata": {},
   "outputs": [],
   "source": [
    "# Segreggating numerical and categorical data based on number of unique values present within the column\n",
    "\n",
    "num_cols = ['index', 'encounter_id', 'patient_id','num_lab_procedures','num_medications', 'number_outpatient',\n",
    "                       'number_emergency',\n",
    "                        'diag_5']\n",
    "cat_cols = ['race', 'gender', 'age',\n",
    "       'time_in_hospital','number_inpatient','number_diagnoses','diag_1', 'diag_2', 'diag_3', 'diag_4',\n",
    "            'X1', 'X2', 'X3', 'X4', 'X5', 'X6', 'X7', 'X8',\n",
    "       'X9', 'X10', 'X11', 'X12', 'X13', 'X14', 'X15', 'X16', 'X17', 'X18',\n",
    "       'X19', 'X20', 'X21', 'X22', 'X23', 'X24', 'X25', 'change',\n",
    "       'diabetesMed']"
   ]
  },
  {
   "cell_type": "code",
   "execution_count": 20,
   "id": "4a642ba2",
   "metadata": {},
   "outputs": [
    {
     "name": "stdout",
     "output_type": "stream",
     "text": [
      "['index', 'encounter_id', 'patient_id', 'num_lab_procedures', 'num_medications', 'number_outpatient', 'number_emergency', 'diag_5']\n"
     ]
    }
   ],
   "source": [
    "print(num_cols)"
   ]
  },
  {
   "cell_type": "markdown",
   "id": "bba7a0d8",
   "metadata": {},
   "source": [
    "Plotting histogram of numeric columns to see each one's distribution"
   ]
  },
  {
   "cell_type": "code",
   "execution_count": 21,
   "id": "f7406d25",
   "metadata": {},
   "outputs": [
    {
     "data": {
      "image/png": "[encoded data removed]",
      "text/plain": [
       "<Figure size 1080x864 with 8 Axes>"
      ]
     },
     "metadata": {
      "needs_background": "light"
     },
     "output_type": "display_data"
    }
   ],
   "source": [
    "# Histogram interpretation\n",
    "%matplotlib inline\n",
    "plt.figure(figsize=(15,12))\n",
    "plt.subplots_adjust(wspace = 0.5,hspace=0.5)\n",
    "\n",
    "for i,j in enumerate(num_cols):\n",
    "        plt.subplot(4,4,i+1)\n",
    "        plt.title(f\"Dist. of {j} Data\")\n",
    "        sns.histplot(Readmission[j],kde = True)   "
   ]
  },
  {
   "cell_type": "code",
   "execution_count": 22,
   "id": "c49c4acc",
   "metadata": {},
   "outputs": [],
   "source": [
    "# Removing skewness from highly skewed columns\n",
    "skew_cols = ['encounter_id', 'patient_id', 'num_lab_procedures', \n",
    "             'num_medications', 'number_outpatient', 'number_emergency']"
   ]
  },
  {
   "cell_type": "code",
   "execution_count": 23,
   "id": "896f95e3",
   "metadata": {},
   "outputs": [
    {
     "data": {
      "image/png": "[encoded data removed]",
      "text/plain": [
       "<Figure size 1080x864 with 6 Axes>"
      ]
     },
     "metadata": {
      "needs_background": "light"
     },
     "output_type": "display_data"
    }
   ],
   "source": [
    "# Applying square-root on each skewed columns and check distribution afterwards\n",
    "plt.figure(figsize=(15,12))\n",
    "plt.subplots_adjust(wspace = 0.5,hspace=0.5)\n",
    "from scipy.stats import boxcox\n",
    "\n",
    "for i,col in enumerate(skew_cols):\n",
    "    Readmission[col] = np.sqrt(Readmission[col])\n",
    "    plt.subplot(4,4,i+1)\n",
    "    plt.title(f\"Dist. of {col} Data\")\n",
    "    sns.histplot(Readmission[col],kde = True) "
   ]
  },
  {
   "cell_type": "markdown",
   "id": "6d33f93d",
   "metadata": {},
   "source": [
    "From above histogram, we can infer there are still skewness in given columns which is caused due to presence outliers. Hence need to proceed for outlier treatment."
   ]
  },
  {
   "cell_type": "code",
   "execution_count": 24,
   "id": "6d3f20d2",
   "metadata": {},
   "outputs": [],
   "source": [
    "box_cols = ['index', 'encounter_id', 'patient_id', 'num_lab_procedures', 'num_medications', 'number_outpatient', \n",
    "            'number_emergency', 'diag_5']"
   ]
  },
  {
   "cell_type": "code",
   "execution_count": 25,
   "id": "1c674f6f",
   "metadata": {},
   "outputs": [
    {
     "data": {
      "image/png": "[encoded data removed]",
      "text/plain": [
       "<Figure size 1080x864 with 8 Axes>"
      ]
     },
     "metadata": {
      "needs_background": "light"
     },
     "output_type": "display_data"
    }
   ],
   "source": [
    "# Box-plot interpretation to check for outliers\n",
    "plt.figure(figsize=(15,12))\n",
    "plt.subplots_adjust(wspace = 0.5,hspace=0.5)\n",
    "\n",
    "for i,col in enumerate(box_cols):\n",
    "        plt.subplot(4,4,i+1)\n",
    "        plt.title(f\"Dist. of {col} Data\")\n",
    "        plt.boxplot(Readmission[col])   "
   ]
  },
  {
   "cell_type": "code",
   "execution_count": 26,
   "id": "fbf470cb",
   "metadata": {},
   "outputs": [
    {
     "name": "stdout",
     "output_type": "stream",
     "text": [
      "0.31308487631343834\n",
      "0.18082820317869652\n"
     ]
    }
   ],
   "source": [
    "# checking individual variance of 'number_outpatient', 'number_emergency' columns as both are containing \n",
    "#large number of outliers\n",
    "from statistics import variance\n",
    "print(variance(Readmission['number_outpatient']))\n",
    "print(variance(Readmission['number_emergency']))"
   ]
  },
  {
   "cell_type": "markdown",
   "id": "f29cfa3e",
   "metadata": {},
   "source": [
    "#### From above we can see that 'number_outpatient', 'number_emergency' both the columns are having low variance (~0) so it can create misleading insights out of the data and cannot generate any new information , hence decided to drop those."
   ]
  },
  {
   "cell_type": "code",
   "execution_count": 27,
   "id": "33ea0cd2",
   "metadata": {},
   "outputs": [],
   "source": [
    "# Droping off clumns with high outliers \n",
    "Readmission.drop(['number_outpatient', 'number_emergency'],axis = 1,inplace = True)"
   ]
  },
  {
   "cell_type": "code",
   "execution_count": 28,
   "id": "03cd68bb",
   "metadata": {},
   "outputs": [
    {
     "name": "stdout",
     "output_type": "stream",
     "text": [
      "Outlier check for num_lab_procedures 7.54983443527075 5.5677643628300215 1.9820700724407283\n",
      "Old Shape:  (66587, 45)\n",
      "Upper bound: 10.522939543931843 Lower bound: 2.594659254168929\n",
      "Outlier check for num_medications 4.47213595499958 3.1622776601683795 1.3098582948312\n",
      "Old Shape:  (66587, 45)\n",
      "Upper bound: 6.43692339724638 Lower bound: 1.1974902179215794\n"
     ]
    }
   ],
   "source": [
    "# Finding outliers in remaining  numerical columns with large outliers\n",
    "outlier_cols = ['num_lab_procedures', 'num_medications']\n",
    "\n",
    "for i in outlier_cols:\n",
    "    # IQR\n",
    "    Q1 = np.percentile(Readmission[i], 25,\n",
    "                   interpolation = 'midpoint')\n",
    " \n",
    "    Q3 = np.percentile(Readmission[i], 75,\n",
    "                   interpolation = 'midpoint')\n",
    "\n",
    "    IQR = Q3-Q1\n",
    "    print (f\"Outlier check for {i}\",Q3,Q1,IQR)\n",
    "    print(\"Old Shape: \", Readmission.shape)\n",
    "\n",
    "    # Upper bound\n",
    "    upper = Q3+1.5*IQR\n",
    "   # Lower bound\n",
    "    lower = Q1-1.5*IQR\n",
    "    \n",
    "    print(\"Upper bound:\",upper,\"Lower bound:\",lower)"
   ]
  },
  {
   "cell_type": "code",
   "execution_count": 29,
   "id": "1068da59",
   "metadata": {},
   "outputs": [
    {
     "data": {
      "text/plain": [
       "25412    10.440307\n",
       "9943     10.440307\n",
       "57695    10.440307\n",
       "29768    10.392305\n",
       "26939    10.392305\n",
       "           ...    \n",
       "20734     1.000000\n",
       "61914     1.000000\n",
       "65198     1.000000\n",
       "16253     1.000000\n",
       "31476     1.000000\n",
       "Name: num_lab_procedures, Length: 66581, dtype: float64"
      ]
     },
     "execution_count": 29,
     "metadata": {},
     "output_type": "execute_result"
    }
   ],
   "source": [
    "# Finding out outliers in given columns and replacing them with values as 90% of upper and lower limit\n",
    "Readmission['num_lab_procedures'][Readmission['num_lab_procedures']<10.52].sort_values(ascending = False)"
   ]
  },
  {
   "cell_type": "code",
   "execution_count": 30,
   "id": "579f5e73",
   "metadata": {},
   "outputs": [
    {
     "data": {
      "text/plain": [
       "39904     2.645751\n",
       "26913     2.645751\n",
       "31374     2.645751\n",
       "10061     2.645751\n",
       "8664      2.645751\n",
       "           ...    \n",
       "66012    10.535654\n",
       "46335    10.630146\n",
       "40541    10.862780\n",
       "11902    10.954451\n",
       "43777    11.357817\n",
       "Name: num_lab_procedures, Length: 62817, dtype: float64"
      ]
     },
     "execution_count": 30,
     "metadata": {},
     "output_type": "execute_result"
    }
   ],
   "source": [
    "Readmission['num_lab_procedures'][Readmission['num_lab_procedures']>2.59].sort_values(ascending = True)"
   ]
  },
  {
   "cell_type": "code",
   "execution_count": 31,
   "id": "4b7267e3",
   "metadata": {},
   "outputs": [
    {
     "data": {
      "text/plain": [
       "24830    1.414214\n",
       "53925    1.414214\n",
       "19214    1.414214\n",
       "8428     1.414214\n",
       "39125    1.414214\n",
       "           ...   \n",
       "8136     8.366600\n",
       "44483    8.366600\n",
       "30191    8.366600\n",
       "49071    8.366600\n",
       "12778    9.000000\n",
       "Name: num_medications, Length: 66406, dtype: float64"
      ]
     },
     "execution_count": 31,
     "metadata": {},
     "output_type": "execute_result"
    }
   ],
   "source": [
    "Readmission['num_medications'][Readmission['num_medications']>1.19].sort_values(ascending = True)"
   ]
  },
  {
   "cell_type": "code",
   "execution_count": 32,
   "id": "3ee9a552",
   "metadata": {},
   "outputs": [
    {
     "data": {
      "text/plain": [
       "18829    6.403124\n",
       "40177    6.403124\n",
       "62561    6.403124\n",
       "49484    6.403124\n",
       "30844    6.403124\n",
       "           ...   \n",
       "26773    1.000000\n",
       "64191    1.000000\n",
       "56767    1.000000\n",
       "47160    1.000000\n",
       "3000     1.000000\n",
       "Name: num_medications, Length: 65813, dtype: float64"
      ]
     },
     "execution_count": 32,
     "metadata": {},
     "output_type": "execute_result"
    }
   ],
   "source": [
    "Readmission['num_medications'][Readmission['num_medications']<6.43].sort_values(ascending = False)"
   ]
  },
  {
   "cell_type": "code",
   "execution_count": 33,
   "id": "20b899ff",
   "metadata": {},
   "outputs": [
    {
     "name": "stderr",
     "output_type": "stream",
     "text": [
      "C:\\Users\\HIMADRI\\AppData\\Local\\Temp\\ipykernel_14644\\916911384.py:1: SettingWithCopyWarning: \n",
      "A value is trying to be set on a copy of a slice from a DataFrame\n",
      "\n",
      "See the caveats in the documentation: https://pandas.pydata.org/pandas-docs/stable/user_guide/indexing.html#returning-a-view-versus-a-copy\n",
      "  Readmission['num_medications'][Readmission['num_medications']<1.19] = 1.414\n",
      "C:\\Users\\HIMADRI\\AppData\\Local\\Temp\\ipykernel_14644\\916911384.py:2: SettingWithCopyWarning: \n",
      "A value is trying to be set on a copy of a slice from a DataFrame\n",
      "\n",
      "See the caveats in the documentation: https://pandas.pydata.org/pandas-docs/stable/user_guide/indexing.html#returning-a-view-versus-a-copy\n",
      "  Readmission['num_medications'][Readmission['num_medications']>6.43] = 6.40\n",
      "C:\\Users\\HIMADRI\\AppData\\Local\\Temp\\ipykernel_14644\\916911384.py:3: SettingWithCopyWarning: \n",
      "A value is trying to be set on a copy of a slice from a DataFrame\n",
      "\n",
      "See the caveats in the documentation: https://pandas.pydata.org/pandas-docs/stable/user_guide/indexing.html#returning-a-view-versus-a-copy\n",
      "  Readmission['num_lab_procedures'][Readmission['num_lab_procedures']<2.59] = 2.64\n",
      "C:\\Users\\HIMADRI\\AppData\\Local\\Temp\\ipykernel_14644\\916911384.py:4: SettingWithCopyWarning: \n",
      "A value is trying to be set on a copy of a slice from a DataFrame\n",
      "\n",
      "See the caveats in the documentation: https://pandas.pydata.org/pandas-docs/stable/user_guide/indexing.html#returning-a-view-versus-a-copy\n",
      "  Readmission['num_lab_procedures'][Readmission['num_lab_procedures']>10.52] = 10.44\n"
     ]
    }
   ],
   "source": [
    "Readmission['num_medications'][Readmission['num_medications']<1.19] = 1.414\n",
    "Readmission['num_medications'][Readmission['num_medications']>6.43] = 6.40\n",
    "Readmission['num_lab_procedures'][Readmission['num_lab_procedures']<2.59] = 2.64\n",
    "Readmission['num_lab_procedures'][Readmission['num_lab_procedures']>10.52] = 10.44"
   ]
  },
  {
   "cell_type": "code",
   "execution_count": 34,
   "id": "26522340",
   "metadata": {},
   "outputs": [
    {
     "data": {
      "image/png": "[encoded data removed]",
      "text/plain": [
       "<Figure size 1080x864 with 2 Axes>"
      ]
     },
     "metadata": {
      "needs_background": "light"
     },
     "output_type": "display_data"
    }
   ],
   "source": [
    "# Box-plot interpretation after outlier treatment\n",
    "plt.figure(figsize=(15,12))\n",
    "plt.subplots_adjust(wspace= 0.5,hspace=0.5)\n",
    "\n",
    "for i,col in enumerate(outlier_cols):\n",
    "        plt.subplot(4,4,i+1)\n",
    "        plt.title(f\"Dist. of {col} Data\")\n",
    "        plt.boxplot(Readmission[col]) "
   ]
  },
  {
   "cell_type": "code",
   "execution_count": 35,
   "id": "39f733b4",
   "metadata": {},
   "outputs": [
    {
     "data": {
      "image/png": "[encoded data removed]",
      "text/plain": [
       "<Figure size 1080x864 with 2 Axes>"
      ]
     },
     "metadata": {
      "needs_background": "light"
     },
     "output_type": "display_data"
    }
   ],
   "source": [
    "# Histogram interpretation after outlier treatment\n",
    "%matplotlib inline\n",
    "plt.figure(figsize=(15,12))\n",
    "plt.subplots_adjust(wspace = 0.5,hspace=0.5)\n",
    "\n",
    "for i,j in enumerate(outlier_cols):\n",
    "        plt.subplot(4,4,i+1)\n",
    "        plt.title(f\"Dist. of {j} Data\")\n",
    "        sns.histplot(Readmission[j],kde = True)  "
   ]
  },
  {
   "cell_type": "markdown",
   "id": "914686e2",
   "metadata": {},
   "source": [
    "Univariate analysis on categorical columns"
   ]
  },
  {
   "cell_type": "code",
   "execution_count": 36,
   "id": "19e89e67",
   "metadata": {},
   "outputs": [
    {
     "data": {
      "text/plain": [
       "['race',\n",
       " 'gender',\n",
       " 'age',\n",
       " 'time_in_hospital',\n",
       " 'number_inpatient',\n",
       " 'number_diagnoses',\n",
       " 'diag_1',\n",
       " 'diag_2',\n",
       " 'diag_3',\n",
       " 'diag_4',\n",
       " 'X1',\n",
       " 'X2',\n",
       " 'X3',\n",
       " 'X4',\n",
       " 'X5',\n",
       " 'X6',\n",
       " 'X7',\n",
       " 'X8',\n",
       " 'X9',\n",
       " 'X10',\n",
       " 'X11',\n",
       " 'X12',\n",
       " 'X13',\n",
       " 'X14',\n",
       " 'X15',\n",
       " 'X16',\n",
       " 'X17',\n",
       " 'X18',\n",
       " 'X19',\n",
       " 'X20',\n",
       " 'X21',\n",
       " 'X22',\n",
       " 'X23',\n",
       " 'X24',\n",
       " 'X25',\n",
       " 'change',\n",
       " 'diabetesMed']"
      ]
     },
     "execution_count": 36,
     "metadata": {},
     "output_type": "execute_result"
    }
   ],
   "source": [
    "cat_cols"
   ]
  },
  {
   "cell_type": "code",
   "execution_count": 37,
   "id": "3735eda5",
   "metadata": {},
   "outputs": [],
   "source": [
    "# Cheecking for distribution of individual categorical columns using countplot\n",
    "cat_plot_1 = Readmission[['race', 'gender', 'age','time_in_hospital']]\n",
    "cat_plot_2 = Readmission[['change', 'diabetesMed','number_inpatient','number_diagnoses']]\n",
    "cat_plot_3 = Readmission[['X1','X2', 'X3', 'X4']]\n",
    "cat_plot_4 = Readmission[['diag_1','diag_2','diag_3','diag_4']]"
   ]
  },
  {
   "cell_type": "code",
   "execution_count": 38,
   "id": "0f590d89",
   "metadata": {},
   "outputs": [
    {
     "data": {
      "image/png": "[encoded data removed]",
      "text/plain": [
       "<Figure size 1080x864 with 4 Axes>"
      ]
     },
     "metadata": {
      "needs_background": "light"
     },
     "output_type": "display_data"
    }
   ],
   "source": [
    "fig = plt.figure(figsize=(15,12))\n",
    "plt.subplots_adjust(hspace=0.5)\n",
    "\n",
    "for i,j in enumerate(cat_plot_1):\n",
    "        ax = fig.add_subplot(2,2,i+1)\n",
    "        sns.countplot(x = cat_plot_1[j],ax=ax)\n",
    "        ax.set_title(f\"Distribution of {j}\")\n",
    "        spacing = 0.5\n",
    "        fig.subplots_adjust(bottom = spacing)"
   ]
  },
  {
   "cell_type": "code",
   "execution_count": 39,
   "id": "9e285ef6",
   "metadata": {},
   "outputs": [
    {
     "name": "stderr",
     "output_type": "stream",
     "text": [
      "C:\\Users\\HIMADRI\\AppData\\Local\\Temp\\ipykernel_8880\\3136699620.py:3: SettingWithCopyWarning: \n",
      "A value is trying to be set on a copy of a slice from a DataFrame\n",
      "\n",
      "See the caveats in the documentation: https://pandas.pydata.org/pandas-docs/stable/user_guide/indexing.html#returning-a-view-versus-a-copy\n",
      "  Readmission['age'][Readmission['age']=='[0-10)'] = '[0-40)'\n",
      "C:\\Users\\HIMADRI\\AppData\\Local\\Temp\\ipykernel_8880\\3136699620.py:4: SettingWithCopyWarning: \n",
      "A value is trying to be set on a copy of a slice from a DataFrame\n",
      "\n",
      "See the caveats in the documentation: https://pandas.pydata.org/pandas-docs/stable/user_guide/indexing.html#returning-a-view-versus-a-copy\n",
      "  Readmission['age'][Readmission['age']=='[10-20)'] = '[0-40)'\n",
      "C:\\Users\\HIMADRI\\AppData\\Local\\Temp\\ipykernel_8880\\3136699620.py:5: SettingWithCopyWarning: \n",
      "A value is trying to be set on a copy of a slice from a DataFrame\n",
      "\n",
      "See the caveats in the documentation: https://pandas.pydata.org/pandas-docs/stable/user_guide/indexing.html#returning-a-view-versus-a-copy\n",
      "  Readmission['age'][Readmission['age']=='[20-30)'] = '[0-40)'\n",
      "C:\\Users\\HIMADRI\\AppData\\Local\\Temp\\ipykernel_8880\\3136699620.py:6: SettingWithCopyWarning: \n",
      "A value is trying to be set on a copy of a slice from a DataFrame\n",
      "\n",
      "See the caveats in the documentation: https://pandas.pydata.org/pandas-docs/stable/user_guide/indexing.html#returning-a-view-versus-a-copy\n",
      "  Readmission['age'][Readmission['age']=='[30-40)'] = '[0-40)'\n"
     ]
    }
   ],
   "source": [
    "# Treating categorical columns with large number of categories\n",
    "# Removing or regrouping categories with smaller conribution within the columns\n",
    "Readmission['age'][Readmission['age']=='[0-10)'] = '[0-40)'\n",
    "Readmission['age'][Readmission['age']=='[10-20)'] = '[0-40)'\n",
    "Readmission['age'][Readmission['age']=='[20-30)'] = '[0-40)'\n",
    "Readmission['age'][Readmission['age']=='[30-40)'] = '[0-40)'"
   ]
  },
  {
   "cell_type": "code",
   "execution_count": 40,
   "id": "877abb9a",
   "metadata": {},
   "outputs": [
    {
     "name": "stderr",
     "output_type": "stream",
     "text": [
      "C:\\Users\\HIMADRI\\anaconda3\\lib\\site-packages\\seaborn\\_decorators.py:36: FutureWarning: Pass the following variable as a keyword arg: x. From version 0.12, the only valid positional argument will be `data`, and passing other arguments without an explicit keyword will result in an error or misinterpretation.\n",
      "  warnings.warn(\n"
     ]
    },
    {
     "data": {
      "text/plain": [
       "<AxesSubplot:xlabel='age', ylabel='count'>"
      ]
     },
     "execution_count": 40,
     "metadata": {},
     "output_type": "execute_result"
    },
    {
     "data": {
      "image/png": "[encoded data removed]",
      "text/plain": [
       "<Figure size 432x288 with 1 Axes>"
      ]
     },
     "metadata": {
      "needs_background": "light"
     },
     "output_type": "display_data"
    }
   ],
   "source": [
    "# Checking distribution after regrouping\n",
    "sns.countplot(Readmission['age'])"
   ]
  },
  {
   "cell_type": "code",
   "execution_count": 41,
   "id": "a03be38d",
   "metadata": {},
   "outputs": [
    {
     "name": "stderr",
     "output_type": "stream",
     "text": [
      "C:\\Users\\HIMADRI\\AppData\\Local\\Temp\\ipykernel_8880\\2735506770.py:2: SettingWithCopyWarning: \n",
      "A value is trying to be set on a copy of a slice from a DataFrame\n",
      "\n",
      "See the caveats in the documentation: https://pandas.pydata.org/pandas-docs/stable/user_guide/indexing.html#returning-a-view-versus-a-copy\n",
      "  Readmission['time_in_hospital'][Readmission['time_in_hospital']>7] = 8\n"
     ]
    }
   ],
   "source": [
    "# Following above methodlogy for all column with large categories\n",
    "Readmission['time_in_hospital'][Readmission['time_in_hospital']>7] = 8"
   ]
  },
  {
   "cell_type": "code",
   "execution_count": 42,
   "id": "aa94b4e6",
   "metadata": {},
   "outputs": [
    {
     "name": "stderr",
     "output_type": "stream",
     "text": [
      "C:\\Users\\HIMADRI\\anaconda3\\lib\\site-packages\\seaborn\\_decorators.py:36: FutureWarning: Pass the following variable as a keyword arg: x. From version 0.12, the only valid positional argument will be `data`, and passing other arguments without an explicit keyword will result in an error or misinterpretation.\n",
      "  warnings.warn(\n"
     ]
    },
    {
     "data": {
      "text/plain": [
       "<AxesSubplot:xlabel='time_in_hospital', ylabel='count'>"
      ]
     },
     "execution_count": 42,
     "metadata": {},
     "output_type": "execute_result"
    },
    {
     "data": {
      "image/png": "[encoded data removed]",
      "text/plain": [
       "<Figure size 432x288 with 1 Axes>"
      ]
     },
     "metadata": {
      "needs_background": "light"
     },
     "output_type": "display_data"
    }
   ],
   "source": [
    "sns.countplot(Readmission['time_in_hospital'])"
   ]
  },
  {
   "cell_type": "code",
   "execution_count": 43,
   "id": "350b272b",
   "metadata": {},
   "outputs": [
    {
     "data": {
      "image/png": "[encoded data removed]",
      "text/plain": [
       "<Figure size 1080x864 with 4 Axes>"
      ]
     },
     "metadata": {
      "needs_background": "light"
     },
     "output_type": "display_data"
    }
   ],
   "source": [
    "fig = plt.figure(figsize=(15,12))\n",
    "plt.subplots_adjust(hspace=0.5)\n",
    "\n",
    "for i,j in enumerate(cat_plot_2):\n",
    "        ax = fig.add_subplot(2,2,i+1)\n",
    "        sns.countplot(x = cat_plot_2[j],ax=ax)\n",
    "        ax.set_title(f\"Distribution of {j}\")\n",
    "        spacing = 0.5\n",
    "        fig.subplots_adjust(bottom=spacing)"
   ]
  },
  {
   "cell_type": "code",
   "execution_count": 44,
   "id": "4b991a23",
   "metadata": {},
   "outputs": [
    {
     "name": "stderr",
     "output_type": "stream",
     "text": [
      "C:\\Users\\HIMADRI\\AppData\\Local\\Temp\\ipykernel_8880\\4099852124.py:1: SettingWithCopyWarning: \n",
      "A value is trying to be set on a copy of a slice from a DataFrame\n",
      "\n",
      "See the caveats in the documentation: https://pandas.pydata.org/pandas-docs/stable/user_guide/indexing.html#returning-a-view-versus-a-copy\n",
      "  Readmission['number_inpatient'][Readmission['number_inpatient']>1] = 2\n",
      "C:\\Users\\HIMADRI\\anaconda3\\lib\\site-packages\\seaborn\\_decorators.py:36: FutureWarning: Pass the following variable as a keyword arg: x. From version 0.12, the only valid positional argument will be `data`, and passing other arguments without an explicit keyword will result in an error or misinterpretation.\n",
      "  warnings.warn(\n"
     ]
    },
    {
     "data": {
      "text/plain": [
       "<AxesSubplot:xlabel='number_inpatient', ylabel='count'>"
      ]
     },
     "execution_count": 44,
     "metadata": {},
     "output_type": "execute_result"
    },
    {
     "data": {
      "image/png": "[encoded data removed]",
      "text/plain": [
       "<Figure size 432x288 with 1 Axes>"
      ]
     },
     "metadata": {
      "needs_background": "light"
     },
     "output_type": "display_data"
    }
   ],
   "source": [
    "Readmission['number_inpatient'][Readmission['number_inpatient']>1] = 2\n",
    "sns.countplot(Readmission['number_inpatient'])"
   ]
  },
  {
   "cell_type": "code",
   "execution_count": 45,
   "id": "2eca99dd",
   "metadata": {},
   "outputs": [
    {
     "name": "stderr",
     "output_type": "stream",
     "text": [
      "C:\\Users\\HIMADRI\\AppData\\Local\\Temp\\ipykernel_8880\\525927045.py:1: SettingWithCopyWarning: \n",
      "A value is trying to be set on a copy of a slice from a DataFrame\n",
      "\n",
      "See the caveats in the documentation: https://pandas.pydata.org/pandas-docs/stable/user_guide/indexing.html#returning-a-view-versus-a-copy\n",
      "  Readmission['number_diagnoses'][Readmission['number_diagnoses']>9] = 10\n",
      "C:\\Users\\HIMADRI\\anaconda3\\lib\\site-packages\\seaborn\\_decorators.py:36: FutureWarning: Pass the following variable as a keyword arg: x. From version 0.12, the only valid positional argument will be `data`, and passing other arguments without an explicit keyword will result in an error or misinterpretation.\n",
      "  warnings.warn(\n"
     ]
    },
    {
     "data": {
      "text/plain": [
       "<AxesSubplot:xlabel='number_diagnoses', ylabel='count'>"
      ]
     },
     "execution_count": 45,
     "metadata": {},
     "output_type": "execute_result"
    },
    {
     "data": {
      "image/png": "[encoded data removed]",
      "text/plain": [
       "<Figure size 432x288 with 1 Axes>"
      ]
     },
     "metadata": {
      "needs_background": "light"
     },
     "output_type": "display_data"
    }
   ],
   "source": [
    "Readmission['number_diagnoses'][Readmission['number_diagnoses']>9] = 10\n",
    "sns.countplot(Readmission['number_diagnoses'])"
   ]
  },
  {
   "cell_type": "code",
   "execution_count": 46,
   "id": "a5b33154",
   "metadata": {},
   "outputs": [
    {
     "data": {
      "image/png": "[encoded data removed]",
      "text/plain": [
       "<Figure size 1080x864 with 4 Axes>"
      ]
     },
     "metadata": {
      "needs_background": "light"
     },
     "output_type": "display_data"
    }
   ],
   "source": [
    "fig = plt.figure(figsize=(15,12))\n",
    "plt.subplots_adjust(hspace=0.5)\n",
    "\n",
    "for i,j in enumerate(cat_plot_3):\n",
    "        ax = fig.add_subplot(2,2,i+1)\n",
    "        sns.countplot(x = cat_plot_3[j],ax=ax)\n",
    "        ax.set_title(f\"Distribution of {j}\")\n",
    "        spacing = 0.5\n",
    "        fig.subplots_adjust(bottom=spacing)"
   ]
  },
  {
   "cell_type": "code",
   "execution_count": 47,
   "id": "f1e93243",
   "metadata": {},
   "outputs": [
    {
     "data": {
      "image/png": "[encoded data removed]",
      "text/plain": [
       "<Figure size 1080x864 with 4 Axes>"
      ]
     },
     "metadata": {
      "needs_background": "light"
     },
     "output_type": "display_data"
    }
   ],
   "source": [
    "fig = plt.figure(figsize=(15,12))\n",
    "plt.subplots_adjust(hspace=0.5)\n",
    "\n",
    "for i,j in enumerate(cat_plot_4):\n",
    "        ax = fig.add_subplot(2,2,i+1)\n",
    "        sns.countplot(x = cat_plot_4[j],ax=ax)\n",
    "        ax.set_title(f\"Distribution of {j}\")\n",
    "        spacing = 0.5\n",
    "        fig.subplots_adjust(bottom=spacing)"
   ]
  },
  {
   "cell_type": "markdown",
   "id": "6f1adde4",
   "metadata": {},
   "source": [
    "### Bi-variate Analysis"
   ]
  },
  {
   "cell_type": "code",
   "execution_count": 48,
   "id": "4c82404f",
   "metadata": {},
   "outputs": [
    {
     "data": {
      "text/plain": [
       "index                   int64\n",
       "encounter_id          float64\n",
       "patient_id            float64\n",
       "race                   object\n",
       "gender                 object\n",
       "age                    object\n",
       "time_in_hospital        int64\n",
       "num_lab_procedures    float64\n",
       "num_procedures          int64\n",
       "num_medications       float64\n",
       "number_inpatient        int64\n",
       "diag_1                 object\n",
       "diag_2                 object\n",
       "diag_3                 object\n",
       "diag_4                 object\n",
       "diag_5                float64\n",
       "number_diagnoses        int64\n",
       "X1                     object\n",
       "X2                     object\n",
       "X3                     object\n",
       "X4                     object\n",
       "X5                     object\n",
       "X6                     object\n",
       "X7                     object\n",
       "X8                     object\n",
       "X9                     object\n",
       "X10                    object\n",
       "X11                    object\n",
       "X12                    object\n",
       "X13                    object\n",
       "X14                    object\n",
       "X15                    object\n",
       "X16                    object\n",
       "X17                    object\n",
       "X18                    object\n",
       "X19                    object\n",
       "X20                    object\n",
       "X21                    object\n",
       "X22                    object\n",
       "X23                    object\n",
       "X24                    object\n",
       "X25                    object\n",
       "change                 object\n",
       "diabetesMed            object\n",
       "readmitted              int64\n",
       "dtype: object"
      ]
     },
     "execution_count": 48,
     "metadata": {},
     "output_type": "execute_result"
    }
   ],
   "source": [
    "Readmission.dtypes"
   ]
  },
  {
   "cell_type": "code",
   "execution_count": 49,
   "id": "e508759a",
   "metadata": {},
   "outputs": [
    {
     "data": {
      "image/png": "[encoded data removed]",
      "text/plain": [
       "<Figure size 1296x360 with 6 Axes>"
      ]
     },
     "metadata": {
      "needs_background": "light"
     },
     "output_type": "display_data"
    }
   ],
   "source": [
    "#Relationship exploration: Categorical dependent Vs Continuous Independent-- Box Plots\n",
    "num_cols=['index',\n",
    " 'encounter_id',\n",
    " 'patient_id',\n",
    " 'num_lab_procedures',\n",
    " 'num_medications',\n",
    " 'diag_5']\n",
    "\n",
    "fig = plt.figure(figsize=(18,5))\n",
    "plt.subplots_adjust(wspace = 0.8,hspace = 0.5)\n",
    "\n",
    "# Creating box plots for each continuous predictor against the Target Variable \"readmitted\"\n",
    "for PredictorCol , i in zip(num_cols, range(len(num_cols))):\n",
    "    PlotCanvas=fig.add_subplot(2, 3, i+1)\n",
    "    Readmission.boxplot(column=PredictorCol, by='readmitted', figsize=(5,5), vert=True, ax=PlotCanvas)"
   ]
  },
  {
   "cell_type": "markdown",
   "id": "353bd010",
   "metadata": {},
   "source": [
    "We will now perform Anova test to validate above box plots statiscally\n",
    "\n",
    "Hypothesis of Annova test -\n",
    "\n",
    "H0: There is no relation between continuous predictors and categoical target vaiables\n",
    "\n",
    "\n",
    "H1: There is relation between continuous predictors and categoical target variables\n",
    "\n",
    "If p-value > 0.5 we will be failing to reject H0 or else we will be rejecting H0."
   ]
  },
  {
   "cell_type": "code",
   "execution_count": 50,
   "id": "64082298",
   "metadata": {},
   "outputs": [],
   "source": [
    "# Defining a function to perform the Anova test \n",
    "def FunctionAnova(inpData, TargetVariable, ContinuousPredictorList):\n",
    "    from scipy.stats import f_oneway\n",
    "\n",
    "    # Creating an empty list of final selected predictors\n",
    "    SelectedPredictors=[]\n",
    "    \n",
    "    print('##### ANOVA Results ##### \\n')\n",
    "    for predictor in ContinuousPredictorList:\n",
    "        CategoryGroupLists=inpData.groupby(TargetVariable)[predictor].apply(list)\n",
    "        AnovaResults = f_oneway(*CategoryGroupLists)\n",
    "        \n",
    "        # If the ANOVA P-Value is <0.05, that means we reject H0\n",
    "        if (AnovaResults[1] < 0.05):\n",
    "            print(predictor, 'is correlated with', TargetVariable, '| P-Value:', AnovaResults[1])\n",
    "            SelectedPredictors.append(predictor)\n",
    "        else:\n",
    "            print(predictor, 'is NOT correlated with', TargetVariable, '| P-Value:', AnovaResults[1])\n",
    "    \n",
    "    return(SelectedPredictors)"
   ]
  },
  {
   "cell_type": "code",
   "execution_count": 51,
   "id": "8e99e504",
   "metadata": {},
   "outputs": [
    {
     "name": "stdout",
     "output_type": "stream",
     "text": [
      "##### ANOVA Results ##### \n",
      "\n",
      "index is correlated with readmitted | P-Value: 8.31658872082449e-08\n",
      "encounter_id is correlated with readmitted | P-Value: 1.594112556675249e-14\n",
      "patient_id is correlated with readmitted | P-Value: 3.586418266057047e-90\n",
      "num_lab_procedures is correlated with readmitted | P-Value: 3.9288595071869727e-20\n",
      "num_medications is correlated with readmitted | P-Value: 5.0518666414814215e-67\n",
      "diag_5 is NOT correlated with readmitted | P-Value: 0.42216825414946757\n"
     ]
    },
    {
     "data": {
      "text/plain": [
       "['index',\n",
       " 'encounter_id',\n",
       " 'patient_id',\n",
       " 'num_lab_procedures',\n",
       " 'num_medications']"
      ]
     },
     "execution_count": 51,
     "metadata": {},
     "output_type": "execute_result"
    }
   ],
   "source": [
    "num_cols = ['index',\n",
    " 'encounter_id',\n",
    " 'patient_id',\n",
    " 'num_lab_procedures',\n",
    " 'num_medications',\n",
    " 'diag_5']\n",
    "\n",
    "FunctionAnova(inpData=Readmission, TargetVariable='readmitted', ContinuousPredictorList=num_cols)"
   ]
  },
  {
   "cell_type": "markdown",
   "id": "7a14b5d4",
   "metadata": {},
   "source": [
    "#### Final selected continuous predictors:\n",
    "'index',\n",
    " 'encounter_id',\n",
    " 'patient_id',\n",
    " 'num_lab_procedures',\n",
    " 'num_medications'"
   ]
  },
  {
   "cell_type": "code",
   "execution_count": 52,
   "id": "78fef17d",
   "metadata": {},
   "outputs": [
    {
     "data": {
      "text/plain": [
       "['race',\n",
       " 'gender',\n",
       " 'age',\n",
       " 'time_in_hospital',\n",
       " 'number_inpatient',\n",
       " 'number_diagnoses',\n",
       " 'diag_1',\n",
       " 'diag_2',\n",
       " 'diag_3',\n",
       " 'diag_4',\n",
       " 'X1',\n",
       " 'X2',\n",
       " 'X3',\n",
       " 'X4',\n",
       " 'X5',\n",
       " 'X6',\n",
       " 'X7',\n",
       " 'X8',\n",
       " 'X9',\n",
       " 'X10',\n",
       " 'X11',\n",
       " 'X12',\n",
       " 'X13',\n",
       " 'X14',\n",
       " 'X15',\n",
       " 'X16',\n",
       " 'X17',\n",
       " 'X18',\n",
       " 'X19',\n",
       " 'X20',\n",
       " 'X21',\n",
       " 'X22',\n",
       " 'X23',\n",
       " 'X24',\n",
       " 'X25',\n",
       " 'change',\n",
       " 'diabetesMed']"
      ]
     },
     "execution_count": 52,
     "metadata": {},
     "output_type": "execute_result"
    }
   ],
   "source": [
    "cat_cols"
   ]
  },
  {
   "cell_type": "code",
   "execution_count": 53,
   "id": "eee085f7",
   "metadata": {},
   "outputs": [
    {
     "data": {
      "text/html": [
       "<div>\n",
       "<style scoped>\n",
       "    .dataframe tbody tr th:only-of-type {\n",
       "        vertical-align: middle;\n",
       "    }\n",
       "\n",
       "    .dataframe tbody tr th {\n",
       "        vertical-align: top;\n",
       "    }\n",
       "\n",
       "    .dataframe thead th {\n",
       "        text-align: right;\n",
       "    }\n",
       "</style>\n",
       "<table border=\"1\" class=\"dataframe\">\n",
       "  <thead>\n",
       "    <tr style=\"text-align: right;\">\n",
       "      <th>readmitted</th>\n",
       "      <th>0</th>\n",
       "      <th>1</th>\n",
       "    </tr>\n",
       "    <tr>\n",
       "      <th>gender</th>\n",
       "      <th></th>\n",
       "      <th></th>\n",
       "    </tr>\n",
       "  </thead>\n",
       "  <tbody>\n",
       "    <tr>\n",
       "      <th>Female</th>\n",
       "      <td>19119</td>\n",
       "      <td>16854</td>\n",
       "    </tr>\n",
       "    <tr>\n",
       "      <th>Male</th>\n",
       "      <td>16702</td>\n",
       "      <td>13910</td>\n",
       "    </tr>\n",
       "    <tr>\n",
       "      <th>Unknown/Invalid</th>\n",
       "      <td>2</td>\n",
       "      <td>0</td>\n",
       "    </tr>\n",
       "  </tbody>\n",
       "</table>\n",
       "</div>"
      ],
      "text/plain": [
       "readmitted           0      1\n",
       "gender                       \n",
       "Female           19119  16854\n",
       "Male             16702  13910\n",
       "Unknown/Invalid      2      0"
      ]
     },
     "execution_count": 53,
     "metadata": {},
     "output_type": "execute_result"
    }
   ],
   "source": [
    "#Relationship exploration: Categorical dependent Vs Categorical Independent-- Cross Tab\n",
    "CrossTabResult=pd.crosstab(index=Readmission['gender'], columns=Readmission['readmitted'])\n",
    "CrossTabResult"
   ]
  },
  {
   "cell_type": "code",
   "execution_count": 54,
   "id": "af43128d",
   "metadata": {},
   "outputs": [
    {
     "data": {
      "text/plain": [
       "<Figure size 432x288 with 0 Axes>"
      ]
     },
     "metadata": {},
     "output_type": "display_data"
    },
    {
     "data": {
      "image/png": "[encoded data removed]",
      "text/plain": [
       "<Figure size 720x2160 with 8 Axes>"
      ]
     },
     "metadata": {
      "needs_background": "light"
     },
     "output_type": "display_data"
    }
   ],
   "source": [
    "# Visual Inference using Grouped Bar charts\n",
    "CategoricalColsList = ['race',\n",
    " 'gender',\n",
    " 'age',\n",
    " 'time_in_hospital',\n",
    " 'number_inpatient',\n",
    " 'number_diagnoses','change',\n",
    " 'diabetesMed'\n",
    " ]\n",
    "\n",
    "plt.subplots_adjust(wspace = 0.8,hspace = 0.5)\n",
    "fig, PlotCanvas=plt.subplots(nrows=len(CategoricalColsList), ncols=1, figsize=(10,30))\n",
    "\n",
    "#Creating Grouped bar plots for each categorical predictor against the Target Variable 'readmitted'\n",
    "for PredictorCol , i in zip(CategoricalColsList, range(len(CategoricalColsList))):\n",
    "    CrossTabResult=pd.crosstab(index=Readmission[PredictorCol], columns=Readmission['readmitted'])\n",
    "    CrossTabResult.plot.bar(color=['yellow','blue'], ax=PlotCanvas[i], title=PredictorCol+' Vs '+'readmitted')\n",
    "    fig.tight_layout()"
   ]
  },
  {
   "cell_type": "markdown",
   "id": "c916f2ce",
   "metadata": {},
   "source": [
    "We will perform chi-sq test to validate the visualization we have seen above through grouped bar plots\n",
    "\n",
    "Hypothesis of Chi-sq test -\n",
    "\n",
    "H0: There is no relation between continuous predictors and categoical target vaiables\n",
    "\n",
    "\n",
    "H1: There is relation between continuous predictors and categoical target variables\n",
    "\n",
    "If p-value > 0.5 we will be failing to reject H0 or else we will be rejecting H0."
   ]
  },
  {
   "cell_type": "code",
   "execution_count": 55,
   "id": "aea6e29c",
   "metadata": {},
   "outputs": [],
   "source": [
    "# Writing a function to perform chi-sq test\n",
    "def FunctionChisq(inpData, TargetVariable, CategoricalVariablesList):\n",
    "    from scipy.stats import chi2_contingency\n",
    "    \n",
    "    # Creating an empty list of final selected predictors\n",
    "    SelectedPredictors=[]\n",
    "\n",
    "    for predictor in CategoricalVariablesList:\n",
    "        CrossTabResult=pd.crosstab(index=inpData[TargetVariable], columns=inpData[predictor])\n",
    "        ChiSqResult = chi2_contingency(CrossTabResult)\n",
    "        \n",
    "        # If the ChiSq P-Value is <0.05, that means we reject H0\n",
    "        if (ChiSqResult[1] < 0.05):\n",
    "            print(predictor, 'is correlated with', TargetVariable, '| P-Value:', ChiSqResult[1])\n",
    "            SelectedPredictors.append(predictor)\n",
    "        else:\n",
    "            print(predictor, 'is NOT correlated with', TargetVariable, '| P-Value:', ChiSqResult[1])        \n",
    "            \n",
    "    return(SelectedPredictors)"
   ]
  },
  {
   "cell_type": "code",
   "execution_count": 56,
   "id": "aeb5fd11",
   "metadata": {},
   "outputs": [
    {
     "name": "stdout",
     "output_type": "stream",
     "text": [
      "race is correlated with readmitted | P-Value: 1.2217458997908937e-39\n",
      "gender is correlated with readmitted | P-Value: 0.0005571054850718176\n",
      "age is correlated with readmitted | P-Value: 2.724871858149014e-25\n",
      "time_in_hospital is correlated with readmitted | P-Value: 6.459361952300565e-58\n",
      "number_inpatient is correlated with readmitted | P-Value: 0.0\n",
      "number_diagnoses is correlated with readmitted | P-Value: 1.6531848676141937e-170\n",
      "change is correlated with readmitted | P-Value: 5.848666449347976e-31\n",
      "diabetesMed is correlated with readmitted | P-Value: 5.0092099040737555e-62\n"
     ]
    },
    {
     "data": {
      "text/plain": [
       "['race',\n",
       " 'gender',\n",
       " 'age',\n",
       " 'time_in_hospital',\n",
       " 'number_inpatient',\n",
       " 'number_diagnoses',\n",
       " 'change',\n",
       " 'diabetesMed']"
      ]
     },
     "execution_count": 56,
     "metadata": {},
     "output_type": "execute_result"
    }
   ],
   "source": [
    "CategoricalVariables=['race',\n",
    " 'gender',\n",
    " 'age',\n",
    " 'time_in_hospital',\n",
    " 'number_inpatient',\n",
    " 'number_diagnoses','change',\n",
    " 'diabetesMed']\n",
    "\n",
    "# Calling the function\n",
    "FunctionChisq(inpData=Readmission, \n",
    "              TargetVariable='readmitted',\n",
    "              CategoricalVariablesList= CategoricalVariables)"
   ]
  },
  {
   "cell_type": "code",
   "execution_count": 57,
   "id": "262cd0e8",
   "metadata": {},
   "outputs": [
    {
     "data": {
      "text/plain": [
       "<Figure size 432x288 with 0 Axes>"
      ]
     },
     "metadata": {},
     "output_type": "display_data"
    },
    {
     "data": {
      "image/png": "[encoded data removed]",
      "text/plain": [
       "<Figure size 720x2160 with 6 Axes>"
      ]
     },
     "metadata": {
      "needs_background": "light"
     },
     "output_type": "display_data"
    }
   ],
   "source": [
    "CategoricalColsList2 = ['X1',\n",
    " 'X2',\n",
    " 'X3',\n",
    " 'X4',\n",
    " 'X5',\n",
    " 'X6',\n",
    "]\n",
    "\n",
    "plt.subplots_adjust(wspace = 0.8,hspace = 0.5)\n",
    "fig, PlotCanvas=plt.subplots(nrows=len(CategoricalColsList2), ncols=1, figsize=(10,30))\n",
    "\n",
    "#Creating Grouped bar plots for each categorical predictor against the Target Variable 'readmitted'\n",
    "for PredictorCol , i in zip(CategoricalColsList2, range(len(CategoricalColsList2))):\n",
    "    CrossTabResult=pd.crosstab(index=Readmission[PredictorCol], columns=Readmission['readmitted'])\n",
    "    CrossTabResult.plot.bar(color=['yellow','blue'], ax=PlotCanvas[i], title=PredictorCol+' Vs '+'readmitted')\n",
    "    fig.tight_layout()"
   ]
  },
  {
   "cell_type": "code",
   "execution_count": 58,
   "id": "d8895ae2",
   "metadata": {},
   "outputs": [
    {
     "name": "stdout",
     "output_type": "stream",
     "text": [
      "X1 is correlated with readmitted | P-Value: 1.666040052135074e-07\n",
      "X2 is correlated with readmitted | P-Value: 1.700527519805053e-11\n",
      "X3 is correlated with readmitted | P-Value: 6.267430055640309e-15\n",
      "X4 is correlated with readmitted | P-Value: 2.448267913312658e-06\n",
      "X5 is NOT correlated with readmitted | P-Value: 0.17021797254359725\n",
      "X6 is correlated with readmitted | P-Value: 0.012837554107868144\n"
     ]
    },
    {
     "data": {
      "text/plain": [
       "['X1', 'X2', 'X3', 'X4', 'X6']"
      ]
     },
     "execution_count": 58,
     "metadata": {},
     "output_type": "execute_result"
    }
   ],
   "source": [
    "FunctionChisq(inpData=Readmission, \n",
    "              TargetVariable='readmitted',\n",
    "              CategoricalVariablesList= CategoricalColsList2)"
   ]
  },
  {
   "cell_type": "code",
   "execution_count": 59,
   "id": "af59efa0",
   "metadata": {},
   "outputs": [
    {
     "name": "stdout",
     "output_type": "stream",
     "text": [
      "X7 is NOT correlated with readmitted | P-Value: 0.06546353116456957\n",
      "X8 is NOT correlated with readmitted | P-Value: 1.0\n",
      "X9 is correlated with readmitted | P-Value: 6.020794744358099e-07\n",
      "X10 is NOT correlated with readmitted | P-Value: 0.36024705921575556\n",
      "X11 is NOT correlated with readmitted | P-Value: 0.9863845603986611\n",
      "X12 is correlated with readmitted | P-Value: 0.038955541826926565\n",
      "X13 is correlated with readmitted | P-Value: 0.0012042736542993437\n",
      "X14 is correlated with readmitted | P-Value: 2.947706500365788e-05\n",
      "X15 is NOT correlated with readmitted | P-Value: 0.3117016056818509\n",
      "X16 is NOT correlated with readmitted | P-Value: 0.09756196292645992\n",
      "X17 is correlated with readmitted | P-Value: 0.04475646207880666\n",
      "X18 is NOT correlated with readmitted | P-Value: 1.0\n",
      "X19 is NOT correlated with readmitted | P-Value: 1.0\n",
      "X20 is correlated with readmitted | P-Value: 1.0432612729844596e-65\n",
      "X21 is correlated with readmitted | P-Value: 0.035844757468783586\n",
      "X22 is NOT correlated with readmitted | P-Value: 0.2573870615266837\n",
      "X23 is NOT correlated with readmitted | P-Value: 0.939262691254573\n",
      "X24 is NOT correlated with readmitted | P-Value: 0.10443531619821272\n",
      "X25 is NOT correlated with readmitted | P-Value: 1.0\n"
     ]
    },
    {
     "data": {
      "text/plain": [
       "['X9', 'X12', 'X13', 'X14', 'X17', 'X20', 'X21']"
      ]
     },
     "execution_count": 59,
     "metadata": {},
     "output_type": "execute_result"
    }
   ],
   "source": [
    "CategoricalColsList3 = ['X7',\n",
    " 'X8',\n",
    " 'X9',\n",
    " 'X10',\n",
    " 'X11',\n",
    " 'X12',\n",
    " 'X13',\n",
    " 'X14',\n",
    " 'X15',\n",
    " 'X16',\n",
    " 'X17',\n",
    " 'X18',\n",
    " 'X19',\n",
    " 'X20',\n",
    " 'X21',\n",
    " 'X22',\n",
    " 'X23',\n",
    " 'X24',\n",
    " 'X25',]\n",
    "\n",
    "FunctionChisq(inpData=Readmission, \n",
    "              TargetVariable='readmitted',\n",
    "              CategoricalVariablesList= CategoricalColsList3)"
   ]
  },
  {
   "cell_type": "code",
   "execution_count": 60,
   "id": "f2595992",
   "metadata": {},
   "outputs": [
    {
     "name": "stdout",
     "output_type": "stream",
     "text": [
      "diag_1 is correlated with readmitted | P-Value: 1.6049391571279512e-241\n",
      "diag_2 is correlated with readmitted | P-Value: 6.0982536493231976e-207\n",
      "diag_3 is correlated with readmitted | P-Value: 7.611290974332619e-185\n",
      "diag_4 is correlated with readmitted | P-Value: 7.611290974332619e-185\n"
     ]
    },
    {
     "data": {
      "text/plain": [
       "['diag_1', 'diag_2', 'diag_3', 'diag_4']"
      ]
     },
     "execution_count": 60,
     "metadata": {},
     "output_type": "execute_result"
    }
   ],
   "source": [
    "CategoricalColsList4 = ['diag_1',\n",
    " 'diag_2',\n",
    " 'diag_3',\n",
    " 'diag_4'] \n",
    "\n",
    "FunctionChisq(inpData=Readmission, \n",
    "              TargetVariable='readmitted',\n",
    "              CategoricalVariablesList= CategoricalColsList4)"
   ]
  },
  {
   "cell_type": "markdown",
   "id": "40fe1b0a",
   "metadata": {},
   "source": [
    "## Feature Engineering and Feature selection"
   ]
  },
  {
   "cell_type": "code",
   "execution_count": 61,
   "id": "606ba00a",
   "metadata": {},
   "outputs": [
    {
     "data": {
      "text/plain": [
       "66587"
      ]
     },
     "execution_count": 61,
     "metadata": {},
     "output_type": "execute_result"
    }
   ],
   "source": [
    "len(Readmission[Readmission['diag_3']==Readmission['diag_4']])"
   ]
  },
  {
   "cell_type": "markdown",
   "id": "df149193",
   "metadata": {},
   "source": [
    " From above we can see as diag_3 and diag_4 have same data for all rows hence dropping off one of them to avoid reducdancy"
   ]
  },
  {
   "cell_type": "code",
   "execution_count": 62,
   "id": "3c508492",
   "metadata": {},
   "outputs": [],
   "source": [
    "Readmission.drop('diag_4',axis = 1,inplace = True)"
   ]
  },
  {
   "cell_type": "markdown",
   "id": "20ca667d",
   "metadata": {},
   "source": [
    "Creating a new feature 'diag_12' using diag_1 column values to get clarity on type of diagnosed diseases"
   ]
  },
  {
   "cell_type": "code",
   "execution_count": 63,
   "id": "a0081cff",
   "metadata": {},
   "outputs": [],
   "source": [
    "# Step-1 : replacing string columns by some numbers to make the column uniform in data type\n",
    "str_cols = ['diag_1','diag_2','diag_3']\n",
    "\n",
    "for col in str_cols:\n",
    "    Readmission[col] = Readmission[col].str.replace('E','50')\n",
    "    Readmission[col]=Readmission[col].str.replace('V','22')\n",
    "    Readmission[col]=Readmission[col].str.replace('NA','0')\n",
    "    Readmission[col] = Readmission[col].astype(float)\n",
    "    Readmission[col] = np.round(Readmission[col],0)"
   ]
  },
  {
   "cell_type": "code",
   "execution_count": 64,
   "id": "ef6dfe1f",
   "metadata": {},
   "outputs": [
    {
     "data": {
      "text/plain": [
       "index                   int64\n",
       "encounter_id          float64\n",
       "patient_id            float64\n",
       "race                   object\n",
       "gender                 object\n",
       "age                    object\n",
       "time_in_hospital        int64\n",
       "num_lab_procedures    float64\n",
       "num_procedures          int64\n",
       "num_medications       float64\n",
       "number_inpatient        int64\n",
       "diag_1                float64\n",
       "diag_2                float64\n",
       "diag_3                float64\n",
       "diag_5                float64\n",
       "number_diagnoses        int64\n",
       "X1                     object\n",
       "X2                     object\n",
       "X3                     object\n",
       "X4                     object\n",
       "X5                     object\n",
       "X6                     object\n",
       "X7                     object\n",
       "X8                     object\n",
       "X9                     object\n",
       "X10                    object\n",
       "X11                    object\n",
       "X12                    object\n",
       "X13                    object\n",
       "X14                    object\n",
       "X15                    object\n",
       "X16                    object\n",
       "X17                    object\n",
       "X18                    object\n",
       "X19                    object\n",
       "X20                    object\n",
       "X21                    object\n",
       "X22                    object\n",
       "X23                    object\n",
       "X24                    object\n",
       "X25                    object\n",
       "change                 object\n",
       "diabetesMed            object\n",
       "readmitted              int64\n",
       "dtype: object"
      ]
     },
     "execution_count": 64,
     "metadata": {},
     "output_type": "execute_result"
    }
   ],
   "source": [
    "Readmission.dtypes"
   ]
  },
  {
   "cell_type": "code",
   "execution_count": 65,
   "id": "29402810",
   "metadata": {},
   "outputs": [
    {
     "data": {
      "text/plain": [
       "0       783.0\n",
       "1       564.0\n",
       "2       574.0\n",
       "3       401.0\n",
       "4       311.0\n",
       "        ...  \n",
       "145     715.0\n",
       "146     518.0\n",
       "147     590.0\n",
       "148    2257.0\n",
       "149     648.0\n",
       "Name: diag_1, Length: 150, dtype: float64"
      ]
     },
     "execution_count": 65,
     "metadata": {},
     "output_type": "execute_result"
    }
   ],
   "source": [
    "Readmission['diag_1'].head(150)"
   ]
  },
  {
   "cell_type": "code",
   "execution_count": 66,
   "id": "c0a0e8d2",
   "metadata": {},
   "outputs": [],
   "source": [
    "# Step-2 : mapping diagnosis codes with disease names\n",
    "Readmission['diag_12'] = pd.cut(Readmission['diag_1'], bins=[0,1,140,240,280,290,320,390,460,520,580,630,680,710,740,760\n",
    "                                                             ,780,800,2200,50000, float('Inf')], \n",
    "                           labels=['Not defined-20', 'Infectious And Parasitic-00', 'Neoplasms-01','Endocrine, Nutritional And Metabolic,Immunal-02'\n",
    "                                  ,'Blood disorders-03','Mental disorders-04','Nervous System And Sense Organs-05','Circulatory disorders-06',\n",
    "                                  'Respiratory  disorders-07','Digestive disorders-08','Genitourinary disorders-09','Pregnancy, Childbirth, And The Puerperium-10'\n",
    "                                  ,'Skin And Subcutaneous Tissue-11','Musculoskeletal System And Connective Tissu-12','Congenital Anomalies-13','Conditions Originating In The Perinatal Period-14',\n",
    "                                 'Symptoms, Signs, And Ill-Defined Conditions-15','Injury And Poisoning-16','factors Influencing Health Status And Contact With Health Services-17',\n",
    "                                  'External Causes Of Injury And Poisoning-18'])"
   ]
  },
  {
   "cell_type": "code",
   "execution_count": 67,
   "id": "58111657",
   "metadata": {},
   "outputs": [],
   "source": [
    "#Step - 4 : Followed above method to create 'diag_23' and 'diag_34' respectively for 'diag_2' and 'diag_3' columns.\n",
    "\n",
    "Readmission['diag_23'] = pd.cut(Readmission['diag_2'], bins=[0,1,140,240,280,290,320,390,460,520,580,630,680,710,740,760\n",
    "                                                             ,780,800,2200,50000, float('Inf')], \n",
    "                           labels=['Not defined-20', 'Infectious And Parasitic-00', 'Neoplasms-01','Endocrine, Nutritional And Metabolic,Immunal-02'\n",
    "                                  ,'Blood disorders-03','Mental disorders-04','Nervous System And Sense Organs-05','Circulatory disorders-06',\n",
    "                                  'Respiratory  disorders-07','Digestive disorders-08','Genitourinary disorders-09','Pregnancy, Childbirth, And The Puerperium-10'\n",
    "                                  ,'Skin And Subcutaneous Tissue-11','Musculoskeletal System And Connective Tissu-12','Congenital Anomalies-13','Conditions Originating In The Perinatal Period-14',\n",
    "                                 'Symptoms, Signs, And Ill-Defined Conditions-15','Injury And Poisoning-16','factors Influencing Health Status And Contact With Health Services-17',\n",
    "                                  'External Causes Of Injury And Poisoning-18'])"
   ]
  },
  {
   "cell_type": "code",
   "execution_count": 68,
   "id": "72aaf8a3",
   "metadata": {},
   "outputs": [],
   "source": [
    "Readmission['diag_34'] = pd.cut(Readmission['diag_3'], bins=[0,1,140,240,280,290,320,390,460,520,580,630,680,710,740,760\n",
    "                                                             ,780,800,2200,50000, float('Inf')], \n",
    "                           labels=['Not defined-20', 'Infectious And Parasitic-00', 'Neoplasms-01','Endocrine, Nutritional And Metabolic,Immunal-02'\n",
    "                                  ,'Blood disorders-03','Mental disorders-04','Nervous System And Sense Organs-05','Circulatory disorders-06',\n",
    "                                  'Respiratory  disorders-07','Digestive disorders-08','Genitourinary disorders-09','Pregnancy, Childbirth, And The Puerperium-10'\n",
    "                                  ,'Skin And Subcutaneous Tissue-11','Musculoskeletal System And Connective Tissu-12','Congenital Anomalies-13','Conditions Originating In The Perinatal Period-14',\n",
    "                                 'Symptoms, Signs, And Ill-Defined Conditions-15','Injury And Poisoning-16','factors Influencing Health Status And Contact With Health Services-17',\n",
    "                                  'External Causes Of Injury And Poisoning-18'])"
   ]
  },
  {
   "cell_type": "code",
   "execution_count": 69,
   "id": "e7585db0",
   "metadata": {},
   "outputs": [
    {
     "data": {
      "text/plain": [
       "diag_12                          Respiratory  disorders-07\n",
       "diag_23                           Circulatory disorders-06\n",
       "diag_34    Endocrine, Nutritional And Metabolic,Immunal-02\n",
       "Name: 340, dtype: object"
      ]
     },
     "execution_count": 69,
     "metadata": {},
     "output_type": "execute_result"
    }
   ],
   "source": [
    "# Check if above mapping working fine\n",
    "Readmission.loc[340,['diag_12','diag_23','diag_34']]"
   ]
  },
  {
   "cell_type": "code",
   "execution_count": 70,
   "id": "dae5edc4",
   "metadata": {},
   "outputs": [],
   "source": [
    "# Replacing NA columns of diag_12 by 'Not-defined 20'\n",
    "Readmission = Readmission.fillna('Not defined-20')\n"
   ]
  },
  {
   "cell_type": "code",
   "execution_count": 71,
   "id": "fbc8fcad",
   "metadata": {},
   "outputs": [],
   "source": [
    "#dropping off diag_1,diag_2,diag_3 to avoid redundancy\n",
    "Readmission.drop(['diag_1','diag_2','diag_3'],axis =1,inplace = True)"
   ]
  },
  {
   "cell_type": "code",
   "execution_count": 72,
   "id": "46647921",
   "metadata": {},
   "outputs": [
    {
     "data": {
      "text/plain": [
       "index                    int64\n",
       "encounter_id           float64\n",
       "patient_id             float64\n",
       "race                    object\n",
       "gender                  object\n",
       "age                     object\n",
       "time_in_hospital         int64\n",
       "num_lab_procedures     float64\n",
       "num_procedures           int64\n",
       "num_medications        float64\n",
       "number_inpatient         int64\n",
       "diag_5                 float64\n",
       "number_diagnoses         int64\n",
       "X1                      object\n",
       "X2                      object\n",
       "X3                      object\n",
       "X4                      object\n",
       "X5                      object\n",
       "X6                      object\n",
       "X7                      object\n",
       "X8                      object\n",
       "X9                      object\n",
       "X10                     object\n",
       "X11                     object\n",
       "X12                     object\n",
       "X13                     object\n",
       "X14                     object\n",
       "X15                     object\n",
       "X16                     object\n",
       "X17                     object\n",
       "X18                     object\n",
       "X19                     object\n",
       "X20                     object\n",
       "X21                     object\n",
       "X22                     object\n",
       "X23                     object\n",
       "X24                     object\n",
       "X25                     object\n",
       "change                  object\n",
       "diabetesMed             object\n",
       "readmitted               int64\n",
       "diag_12               category\n",
       "diag_23               category\n",
       "diag_34               category\n",
       "dtype: object"
      ]
     },
     "execution_count": 72,
     "metadata": {},
     "output_type": "execute_result"
    }
   ],
   "source": [
    "Readmission.dtypes"
   ]
  },
  {
   "cell_type": "markdown",
   "id": "9de5b8cc",
   "metadata": {},
   "source": [
    "Creating a new feature 'dosechange' to signify the number of dose changed from X1 TO X25"
   ]
  },
  {
   "cell_type": "code",
   "execution_count": 73,
   "id": "d9b126ac",
   "metadata": {},
   "outputs": [
    {
     "data": {
      "text/plain": [
       "0    42745\n",
       "1    19108\n",
       "2     4363\n",
       "3      338\n",
       "4       28\n",
       "5        5\n",
       "Name: dosechange, dtype: int64"
      ]
     },
     "execution_count": 73,
     "metadata": {},
     "output_type": "execute_result"
    }
   ],
   "source": [
    "cols = ['X1',\n",
    " 'X2',\n",
    " 'X3',\n",
    " 'X4',\n",
    " 'X5',\n",
    " 'X6',\n",
    " 'X7',\n",
    " 'X8',\n",
    " 'X9',\n",
    " 'X10',\n",
    " 'X11',\n",
    " 'X12',\n",
    " 'X13',\n",
    " 'X14',\n",
    " 'X15',\n",
    " 'X16',\n",
    " 'X17',\n",
    " 'X18',\n",
    " 'X19',\n",
    " 'X20',\n",
    " 'X21',\n",
    " 'X22',\n",
    " 'X23',\n",
    " 'X24',\n",
    " 'X25']\n",
    "\n",
    "for i in cols:\n",
    "    colname = str(i) + 'new'\n",
    "    Readmission[colname] = Readmission[i].apply(lambda x: 0 if (x == 'No' or x == 'Steady' or x =='None' or x == 'Norm') else 1)\n",
    "Readmission['dosechange'] = 0\n",
    "for i in cols:\n",
    "    colname = str(i) + 'new'\n",
    "    Readmission['dosechange'] = Readmission['dosechange'] + Readmission[colname]\n",
    "    del Readmission[colname]\n",
    "    \n",
    "Readmission['dosechange'].value_counts()  "
   ]
  },
  {
   "cell_type": "code",
   "execution_count": 74,
   "id": "a63bd32e",
   "metadata": {},
   "outputs": [],
   "source": [
    "#dropping off older columns to avoid redundancy\n",
    "Readmission.drop(['X1', 'X2', 'X3', 'X4', 'X5', 'X6', 'X7',\n",
    "       'X8', 'X9', 'X10', 'X11', 'X12', 'X13', 'X14', 'X15', 'X16', 'X17',\n",
    "       'X18', 'X19', 'X20', 'X21', 'X22', 'X23', 'X24', 'X25'],axis = 1,inplace = True)"
   ]
  },
  {
   "cell_type": "code",
   "execution_count": 75,
   "id": "79d12994",
   "metadata": {},
   "outputs": [
    {
     "name": "stdout",
     "output_type": "stream",
     "text": [
      "<class 'pandas.core.frame.DataFrame'>\n",
      "RangeIndex: 66587 entries, 0 to 66586\n",
      "Data columns (total 20 columns):\n",
      " #   Column              Non-Null Count  Dtype   \n",
      "---  ------              --------------  -----   \n",
      " 0   index               66587 non-null  int64   \n",
      " 1   encounter_id        66587 non-null  float64 \n",
      " 2   patient_id          66587 non-null  float64 \n",
      " 3   race                66587 non-null  object  \n",
      " 4   gender              66587 non-null  object  \n",
      " 5   age                 66587 non-null  object  \n",
      " 6   time_in_hospital    66587 non-null  int64   \n",
      " 7   num_lab_procedures  66587 non-null  float64 \n",
      " 8   num_procedures      66587 non-null  int64   \n",
      " 9   num_medications     66587 non-null  float64 \n",
      " 10  number_inpatient    66587 non-null  int64   \n",
      " 11  diag_5              66587 non-null  float64 \n",
      " 12  number_diagnoses    66587 non-null  int64   \n",
      " 13  change              66587 non-null  object  \n",
      " 14  diabetesMed         66587 non-null  object  \n",
      " 15  readmitted          66587 non-null  int64   \n",
      " 16  diag_12             66587 non-null  category\n",
      " 17  diag_23             66587 non-null  category\n",
      " 18  diag_34             66587 non-null  category\n",
      " 19  dosechange          66587 non-null  int64   \n",
      "dtypes: category(3), float64(5), int64(7), object(5)\n",
      "memory usage: 8.8+ MB\n"
     ]
    }
   ],
   "source": [
    "# check data type information on final predictors\n",
    "Readmission.info() "
   ]
  },
  {
   "cell_type": "code",
   "execution_count": 76,
   "id": "872b2970",
   "metadata": {},
   "outputs": [],
   "source": [
    "# Converting the binary nominal variables race,gender,age,change,diabetesMed to numeric\n",
    "Readmission['race'].replace({'Hispanic':0,'Caucasian':1,'AfricanAmerican':2,'Asian':3,'Other':4,'NA':5},inplace = True)\n",
    "Readmission['gender'].replace({'Male':0,'Female':1,'Unknown/Invalid':2},inplace = True)\n",
    "Readmission['age'].replace({'[0-40)':0,'[40-50)':1,'[50-60)':2,'[60-70)':3,'[70-80)':4,'[80-90)':5,'[90-100)':6},inplace = True)\n",
    "Readmission['change'].replace({'Ch':1,'No':0},inplace = True)\n",
    "Readmission['diabetesMed'].replace({'No':0,'Yes':1},inplace = True)"
   ]
  },
  {
   "cell_type": "code",
   "execution_count": 77,
   "id": "e7755bd7",
   "metadata": {},
   "outputs": [
    {
     "data": {
      "text/html": [
       "<div>\n",
       "<style scoped>\n",
       "    .dataframe tbody tr th:only-of-type {\n",
       "        vertical-align: middle;\n",
       "    }\n",
       "\n",
       "    .dataframe tbody tr th {\n",
       "        vertical-align: top;\n",
       "    }\n",
       "\n",
       "    .dataframe thead th {\n",
       "        text-align: right;\n",
       "    }\n",
       "</style>\n",
       "<table border=\"1\" class=\"dataframe\">\n",
       "  <thead>\n",
       "    <tr style=\"text-align: right;\">\n",
       "      <th></th>\n",
       "      <th>index</th>\n",
       "      <th>encounter_id</th>\n",
       "      <th>patient_id</th>\n",
       "      <th>race</th>\n",
       "      <th>gender</th>\n",
       "      <th>age</th>\n",
       "      <th>time_in_hospital</th>\n",
       "      <th>num_lab_procedures</th>\n",
       "      <th>num_procedures</th>\n",
       "      <th>num_medications</th>\n",
       "      <th>number_inpatient</th>\n",
       "      <th>diag_5</th>\n",
       "      <th>number_diagnoses</th>\n",
       "      <th>change</th>\n",
       "      <th>diabetesMed</th>\n",
       "      <th>readmitted</th>\n",
       "      <th>diag_12</th>\n",
       "      <th>diag_23</th>\n",
       "      <th>diag_34</th>\n",
       "      <th>dosechange</th>\n",
       "    </tr>\n",
       "  </thead>\n",
       "  <tbody>\n",
       "    <tr>\n",
       "      <th>0</th>\n",
       "      <td>69375</td>\n",
       "      <td>14036.706879</td>\n",
       "      <td>7177.878517</td>\n",
       "      <td>0</td>\n",
       "      <td>0</td>\n",
       "      <td>5</td>\n",
       "      <td>4</td>\n",
       "      <td>6.244998</td>\n",
       "      <td>1</td>\n",
       "      <td>3.000000</td>\n",
       "      <td>2</td>\n",
       "      <td>32.970966</td>\n",
       "      <td>9</td>\n",
       "      <td>0</td>\n",
       "      <td>1</td>\n",
       "      <td>1</td>\n",
       "      <td>Symptoms, Signs, And Ill-Defined Conditions-15</td>\n",
       "      <td>Circulatory disorders-06</td>\n",
       "      <td>Genitourinary disorders-09</td>\n",
       "      <td>0</td>\n",
       "    </tr>\n",
       "    <tr>\n",
       "      <th>1</th>\n",
       "      <td>57272</td>\n",
       "      <td>12789.524854</td>\n",
       "      <td>9624.518533</td>\n",
       "      <td>1</td>\n",
       "      <td>0</td>\n",
       "      <td>3</td>\n",
       "      <td>3</td>\n",
       "      <td>5.830952</td>\n",
       "      <td>1</td>\n",
       "      <td>3.464102</td>\n",
       "      <td>0</td>\n",
       "      <td>94.116731</td>\n",
       "      <td>6</td>\n",
       "      <td>0</td>\n",
       "      <td>0</td>\n",
       "      <td>0</td>\n",
       "      <td>Digestive disorders-08</td>\n",
       "      <td>Symptoms, Signs, And Ill-Defined Conditions-15</td>\n",
       "      <td>Digestive disorders-08</td>\n",
       "      <td>0</td>\n",
       "    </tr>\n",
       "    <tr>\n",
       "      <th>2</th>\n",
       "      <td>82347</td>\n",
       "      <td>16015.535146</td>\n",
       "      <td>5479.414385</td>\n",
       "      <td>1</td>\n",
       "      <td>1</td>\n",
       "      <td>2</td>\n",
       "      <td>6</td>\n",
       "      <td>7.071068</td>\n",
       "      <td>2</td>\n",
       "      <td>4.898979</td>\n",
       "      <td>2</td>\n",
       "      <td>64.138297</td>\n",
       "      <td>9</td>\n",
       "      <td>1</td>\n",
       "      <td>1</td>\n",
       "      <td>1</td>\n",
       "      <td>Digestive disorders-08</td>\n",
       "      <td>Circulatory disorders-06</td>\n",
       "      <td>Genitourinary disorders-09</td>\n",
       "      <td>1</td>\n",
       "    </tr>\n",
       "    <tr>\n",
       "      <th>3</th>\n",
       "      <td>89608</td>\n",
       "      <td>17026.191941</td>\n",
       "      <td>9675.020465</td>\n",
       "      <td>2</td>\n",
       "      <td>1</td>\n",
       "      <td>4</td>\n",
       "      <td>5</td>\n",
       "      <td>7.937254</td>\n",
       "      <td>0</td>\n",
       "      <td>3.741657</td>\n",
       "      <td>0</td>\n",
       "      <td>13.832428</td>\n",
       "      <td>7</td>\n",
       "      <td>1</td>\n",
       "      <td>1</td>\n",
       "      <td>1</td>\n",
       "      <td>Circulatory disorders-06</td>\n",
       "      <td>Symptoms, Signs, And Ill-Defined Conditions-15</td>\n",
       "      <td>Endocrine, Nutritional And Metabolic,Immunal-02</td>\n",
       "      <td>1</td>\n",
       "    </tr>\n",
       "    <tr>\n",
       "      <th>4</th>\n",
       "      <td>24091</td>\n",
       "      <td>9048.419752</td>\n",
       "      <td>4843.995871</td>\n",
       "      <td>1</td>\n",
       "      <td>0</td>\n",
       "      <td>4</td>\n",
       "      <td>8</td>\n",
       "      <td>4.123106</td>\n",
       "      <td>1</td>\n",
       "      <td>3.316625</td>\n",
       "      <td>0</td>\n",
       "      <td>82.898368</td>\n",
       "      <td>9</td>\n",
       "      <td>0</td>\n",
       "      <td>0</td>\n",
       "      <td>1</td>\n",
       "      <td>Mental disorders-04</td>\n",
       "      <td>Endocrine, Nutritional And Metabolic,Immunal-02</td>\n",
       "      <td>Mental disorders-04</td>\n",
       "      <td>1</td>\n",
       "    </tr>\n",
       "  </tbody>\n",
       "</table>\n",
       "</div>"
      ],
      "text/plain": [
       "   index  encounter_id   patient_id  race  gender  age  time_in_hospital  \\\n",
       "0  69375  14036.706879  7177.878517     0       0    5                 4   \n",
       "1  57272  12789.524854  9624.518533     1       0    3                 3   \n",
       "2  82347  16015.535146  5479.414385     1       1    2                 6   \n",
       "3  89608  17026.191941  9675.020465     2       1    4                 5   \n",
       "4  24091   9048.419752  4843.995871     1       0    4                 8   \n",
       "\n",
       "   num_lab_procedures  num_procedures  num_medications  number_inpatient  \\\n",
       "0            6.244998               1         3.000000                 2   \n",
       "1            5.830952               1         3.464102                 0   \n",
       "2            7.071068               2         4.898979                 2   \n",
       "3            7.937254               0         3.741657                 0   \n",
       "4            4.123106               1         3.316625                 0   \n",
       "\n",
       "      diag_5  number_diagnoses  change  diabetesMed  readmitted  \\\n",
       "0  32.970966                 9       0            1           1   \n",
       "1  94.116731                 6       0            0           0   \n",
       "2  64.138297                 9       1            1           1   \n",
       "3  13.832428                 7       1            1           1   \n",
       "4  82.898368                 9       0            0           1   \n",
       "\n",
       "                                          diag_12  \\\n",
       "0  Symptoms, Signs, And Ill-Defined Conditions-15   \n",
       "1                          Digestive disorders-08   \n",
       "2                          Digestive disorders-08   \n",
       "3                        Circulatory disorders-06   \n",
       "4                             Mental disorders-04   \n",
       "\n",
       "                                           diag_23  \\\n",
       "0                         Circulatory disorders-06   \n",
       "1   Symptoms, Signs, And Ill-Defined Conditions-15   \n",
       "2                         Circulatory disorders-06   \n",
       "3   Symptoms, Signs, And Ill-Defined Conditions-15   \n",
       "4  Endocrine, Nutritional And Metabolic,Immunal-02   \n",
       "\n",
       "                                           diag_34  dosechange  \n",
       "0                       Genitourinary disorders-09           0  \n",
       "1                           Digestive disorders-08           0  \n",
       "2                       Genitourinary disorders-09           1  \n",
       "3  Endocrine, Nutritional And Metabolic,Immunal-02           1  \n",
       "4                              Mental disorders-04           1  "
      ]
     },
     "execution_count": 77,
     "metadata": {},
     "output_type": "execute_result"
    }
   ],
   "source": [
    "Readmission.head()"
   ]
  },
  {
   "cell_type": "code",
   "execution_count": 78,
   "id": "0b15b1b3",
   "metadata": {},
   "outputs": [],
   "source": [
    "# Extracting numbers from string columns and conveting them to integer\n",
    "Readmission['diag_12'] = Readmission['diag_12'].str[-2:]\n",
    "Readmission['diag_23'] = Readmission['diag_23'].str[-2:]\n",
    "Readmission['diag_34'] = Readmission['diag_34'].str[-2:]"
   ]
  },
  {
   "cell_type": "code",
   "execution_count": 79,
   "id": "2cbb2cac",
   "metadata": {},
   "outputs": [],
   "source": [
    "Readmission['diag_12'] = Readmission['diag_12'].astype(int)\n",
    "Readmission['diag_23'] = Readmission['diag_23'].astype(int)\n",
    "Readmission['diag_34'] = Readmission['diag_34'].astype(int)"
   ]
  },
  {
   "cell_type": "code",
   "execution_count": 80,
   "id": "d4cf572c",
   "metadata": {},
   "outputs": [
    {
     "data": {
      "text/plain": [
       "index                   int64\n",
       "encounter_id          float64\n",
       "patient_id            float64\n",
       "race                    int64\n",
       "gender                  int64\n",
       "age                     int64\n",
       "time_in_hospital        int64\n",
       "num_lab_procedures    float64\n",
       "num_procedures          int64\n",
       "num_medications       float64\n",
       "number_inpatient        int64\n",
       "diag_5                float64\n",
       "number_diagnoses        int64\n",
       "change                  int64\n",
       "diabetesMed             int64\n",
       "readmitted              int64\n",
       "diag_12                 int32\n",
       "diag_23                 int32\n",
       "diag_34                 int32\n",
       "dosechange              int64\n",
       "dtype: object"
      ]
     },
     "execution_count": 80,
     "metadata": {},
     "output_type": "execute_result"
    }
   ],
   "source": [
    "Readmission.dtypes"
   ]
  },
  {
   "cell_type": "code",
   "execution_count": 81,
   "id": "6aab90d2",
   "metadata": {},
   "outputs": [],
   "source": [
    "# standardizing data for better prediction power of model\n",
    "def standardize(data):\n",
    "    return ((data - np.mean(data, axis = 0)) / np.std(data, axis = 0))"
   ]
  },
  {
   "cell_type": "code",
   "execution_count": 82,
   "id": "e53fed50",
   "metadata": {},
   "outputs": [
    {
     "data": {
      "text/plain": [
       "index                 float64\n",
       "encounter_id          float64\n",
       "patient_id            float64\n",
       "race                  float64\n",
       "gender                float64\n",
       "age                   float64\n",
       "time_in_hospital      float64\n",
       "num_lab_procedures    float64\n",
       "num_procedures        float64\n",
       "num_medications       float64\n",
       "number_inpatient      float64\n",
       "diag_5                float64\n",
       "number_diagnoses      float64\n",
       "change                float64\n",
       "diabetesMed           float64\n",
       "dosechange            float64\n",
       "diag_12               float64\n",
       "diag_23               float64\n",
       "diag_34               float64\n",
       "dtype: object"
      ]
     },
     "execution_count": 82,
     "metadata": {},
     "output_type": "execute_result"
    }
   ],
   "source": [
    "new_num_cols = ['index', 'encounter_id', 'patient_id', 'race', 'gender', 'age',\n",
    "       'time_in_hospital', 'num_lab_procedures', 'num_procedures',\n",
    "       'num_medications', 'number_inpatient','diag_5', 'number_diagnoses','change',\n",
    "       'diabetesMed','dosechange','diag_12','diag_23','diag_34']\n",
    "\n",
    "Readmission[new_num_cols] = standardize(Readmission[new_num_cols])\n",
    "\n",
    "Readmission[new_num_cols].dtypes"
   ]
  },
  {
   "cell_type": "code",
   "execution_count": 83,
   "id": "c7d804fb",
   "metadata": {},
   "outputs": [
    {
     "data": {
      "text/plain": [
       "(66587, 20)"
      ]
     },
     "execution_count": 83,
     "metadata": {},
     "output_type": "execute_result"
    }
   ],
   "source": [
    "Readmission.shape"
   ]
  },
  {
   "cell_type": "code",
   "execution_count": 84,
   "id": "d01feee8",
   "metadata": {},
   "outputs": [
    {
     "data": {
      "text/plain": [
       "Index(['index', 'encounter_id', 'patient_id', 'race', 'gender', 'age',\n",
       "       'time_in_hospital', 'num_lab_procedures', 'num_procedures',\n",
       "       'num_medications', 'number_inpatient', 'diag_5', 'number_diagnoses',\n",
       "       'change', 'diabetesMed', 'readmitted', 'diag_12', 'diag_23', 'diag_34',\n",
       "       'dosechange'],\n",
       "      dtype='object')"
      ]
     },
     "execution_count": 84,
     "metadata": {},
     "output_type": "execute_result"
    }
   ],
   "source": [
    "Readmission.columns"
   ]
  },
  {
   "cell_type": "markdown",
   "id": "a51093df",
   "metadata": {},
   "source": [
    "#### Final selected  predictors for model building:\n",
    "['index', 'encounter_id', 'patient_id', 'race', 'gender', 'age',\n",
    "       'time_in_hospital', 'num_lab_procedures', 'num_procedures',\n",
    "       'num_medications', 'number_inpatient', 'diag_5', 'number_diagnoses',\n",
    "       'change', 'diabetesMed', 'diag_12', 'diag_23', 'diag_34',\n",
    "       'dosechange']\n",
    "       \n",
    "#### Target Variable : 'readmitted'"
   ]
  },
  {
   "cell_type": "markdown",
   "id": "6f6d1f69",
   "metadata": {},
   "source": [
    "#### Final selected predictors for ML model"
   ]
  },
  {
   "cell_type": "code",
   "execution_count": 85,
   "id": "44d1a6dd",
   "metadata": {},
   "outputs": [
    {
     "data": {
      "text/plain": [
       "['index',\n",
       " 'encounter_id',\n",
       " 'patient_id',\n",
       " 'race',\n",
       " 'gender',\n",
       " 'age',\n",
       " 'time_in_hospital',\n",
       " 'num_lab_procedures',\n",
       " 'num_procedures',\n",
       " 'num_medications',\n",
       " 'number_inpatient',\n",
       " 'diag_5',\n",
       " 'number_diagnoses',\n",
       " 'change',\n",
       " 'diabetesMed',\n",
       " 'diag_12',\n",
       " 'diag_23',\n",
       " 'diag_34',\n",
       " 'dosechange']"
      ]
     },
     "execution_count": 85,
     "metadata": {},
     "output_type": "execute_result"
    }
   ],
   "source": [
    "['index', 'encounter_id', 'patient_id', 'race', 'gender', 'age', 'time_in_hospital',\n",
    " 'num_lab_procedures', 'num_procedures', 'num_medications', 'number_inpatient', 'diag_5', 'number_diagnoses',\n",
    " 'change', 'diabetesMed', 'diag_12', 'diag_23', 'diag_34', 'dosechange']"
   ]
  },
  {
   "cell_type": "code",
   "execution_count": 93,
   "id": "998a8c49",
   "metadata": {},
   "outputs": [
    {
     "data": {
      "text/html": [
       "<div>\n",
       "<style scoped>\n",
       "    .dataframe tbody tr th:only-of-type {\n",
       "        vertical-align: middle;\n",
       "    }\n",
       "\n",
       "    .dataframe tbody tr th {\n",
       "        vertical-align: top;\n",
       "    }\n",
       "\n",
       "    .dataframe thead th {\n",
       "        text-align: right;\n",
       "    }\n",
       "</style>\n",
       "<table border=\"1\" class=\"dataframe\">\n",
       "  <thead>\n",
       "    <tr style=\"text-align: right;\">\n",
       "      <th></th>\n",
       "      <th>encounter_id</th>\n",
       "      <th>patient_id</th>\n",
       "      <th>race</th>\n",
       "      <th>gender</th>\n",
       "      <th>age</th>\n",
       "      <th>time_in_hospital</th>\n",
       "      <th>num_lab_procedures</th>\n",
       "      <th>num_procedures</th>\n",
       "      <th>num_medications</th>\n",
       "      <th>number_inpatient</th>\n",
       "      <th>diag_5</th>\n",
       "      <th>number_diagnoses</th>\n",
       "      <th>change</th>\n",
       "      <th>diabetesMed</th>\n",
       "      <th>diag_12</th>\n",
       "      <th>diag_23</th>\n",
       "      <th>diag_34</th>\n",
       "      <th>dosechange</th>\n",
       "    </tr>\n",
       "  </thead>\n",
       "  <tbody>\n",
       "    <tr>\n",
       "      <th>0</th>\n",
       "      <td>0.449191</td>\n",
       "      <td>0.152183</td>\n",
       "      <td>-1.653818</td>\n",
       "      <td>-1.083998</td>\n",
       "      <td>1.247345</td>\n",
       "      <td>-0.038115</td>\n",
       "      <td>-0.085291</td>\n",
       "      <td>-0.194357</td>\n",
       "      <td>-0.912505</td>\n",
       "      <td>2.066656</td>\n",
       "      <td>-0.579685</td>\n",
       "      <td>0.821180</td>\n",
       "      <td>-0.924717</td>\n",
       "      <td>0.548088</td>\n",
       "      <td>1.692964</td>\n",
       "      <td>-0.102698</td>\n",
       "      <td>0.523126</td>\n",
       "      <td>-0.676636</td>\n",
       "    </tr>\n",
       "    <tr>\n",
       "      <th>1</th>\n",
       "      <td>0.150838</td>\n",
       "      <td>0.964086</td>\n",
       "      <td>-0.397598</td>\n",
       "      <td>-1.083998</td>\n",
       "      <td>-0.083717</td>\n",
       "      <td>-0.469012</td>\n",
       "      <td>-0.339966</td>\n",
       "      <td>-0.194357</td>\n",
       "      <td>-0.428203</td>\n",
       "      <td>-0.656132</td>\n",
       "      <td>1.538675</td>\n",
       "      <td>-0.739067</td>\n",
       "      <td>-0.924717</td>\n",
       "      <td>-1.824525</td>\n",
       "      <td>0.106142</td>\n",
       "      <td>2.086589</td>\n",
       "      <td>0.310013</td>\n",
       "      <td>-0.676636</td>\n",
       "    </tr>\n",
       "    <tr>\n",
       "      <th>2</th>\n",
       "      <td>0.922569</td>\n",
       "      <td>-0.411443</td>\n",
       "      <td>-0.397598</td>\n",
       "      <td>0.922288</td>\n",
       "      <td>-0.749249</td>\n",
       "      <td>0.823678</td>\n",
       "      <td>0.422816</td>\n",
       "      <td>0.391901</td>\n",
       "      <td>1.069128</td>\n",
       "      <td>2.066656</td>\n",
       "      <td>0.500089</td>\n",
       "      <td>0.821180</td>\n",
       "      <td>1.081412</td>\n",
       "      <td>0.548088</td>\n",
       "      <td>0.106142</td>\n",
       "      <td>-0.102698</td>\n",
       "      <td>0.523126</td>\n",
       "      <td>0.877794</td>\n",
       "    </tr>\n",
       "    <tr>\n",
       "      <th>3</th>\n",
       "      <td>1.164340</td>\n",
       "      <td>0.980845</td>\n",
       "      <td>0.858623</td>\n",
       "      <td>0.922288</td>\n",
       "      <td>0.581814</td>\n",
       "      <td>0.392781</td>\n",
       "      <td>0.955598</td>\n",
       "      <td>-0.780615</td>\n",
       "      <td>-0.138567</td>\n",
       "      <td>-0.656132</td>\n",
       "      <td>-1.242729</td>\n",
       "      <td>-0.218985</td>\n",
       "      <td>1.081412</td>\n",
       "      <td>0.548088</td>\n",
       "      <td>-0.347235</td>\n",
       "      <td>2.086589</td>\n",
       "      <td>-0.968668</td>\n",
       "      <td>0.877794</td>\n",
       "    </tr>\n",
       "    <tr>\n",
       "      <th>4</th>\n",
       "      <td>-0.744115</td>\n",
       "      <td>-0.622303</td>\n",
       "      <td>-0.397598</td>\n",
       "      <td>-1.083998</td>\n",
       "      <td>0.581814</td>\n",
       "      <td>1.685472</td>\n",
       "      <td>-1.390444</td>\n",
       "      <td>-0.194357</td>\n",
       "      <td>-0.582099</td>\n",
       "      <td>-0.656132</td>\n",
       "      <td>1.150021</td>\n",
       "      <td>0.821180</td>\n",
       "      <td>-0.924717</td>\n",
       "      <td>-1.824525</td>\n",
       "      <td>-0.800613</td>\n",
       "      <td>-1.075715</td>\n",
       "      <td>-0.542441</td>\n",
       "      <td>0.877794</td>\n",
       "    </tr>\n",
       "  </tbody>\n",
       "</table>\n",
       "</div>"
      ],
      "text/plain": [
       "   encounter_id  patient_id      race    gender       age  time_in_hospital  \\\n",
       "0      0.449191    0.152183 -1.653818 -1.083998  1.247345         -0.038115   \n",
       "1      0.150838    0.964086 -0.397598 -1.083998 -0.083717         -0.469012   \n",
       "2      0.922569   -0.411443 -0.397598  0.922288 -0.749249          0.823678   \n",
       "3      1.164340    0.980845  0.858623  0.922288  0.581814          0.392781   \n",
       "4     -0.744115   -0.622303 -0.397598 -1.083998  0.581814          1.685472   \n",
       "\n",
       "   num_lab_procedures  num_procedures  num_medications  number_inpatient  \\\n",
       "0           -0.085291       -0.194357        -0.912505          2.066656   \n",
       "1           -0.339966       -0.194357        -0.428203         -0.656132   \n",
       "2            0.422816        0.391901         1.069128          2.066656   \n",
       "3            0.955598       -0.780615        -0.138567         -0.656132   \n",
       "4           -1.390444       -0.194357        -0.582099         -0.656132   \n",
       "\n",
       "     diag_5  number_diagnoses    change  diabetesMed   diag_12   diag_23  \\\n",
       "0 -0.579685          0.821180 -0.924717     0.548088  1.692964 -0.102698   \n",
       "1  1.538675         -0.739067 -0.924717    -1.824525  0.106142  2.086589   \n",
       "2  0.500089          0.821180  1.081412     0.548088  0.106142 -0.102698   \n",
       "3 -1.242729         -0.218985  1.081412     0.548088 -0.347235  2.086589   \n",
       "4  1.150021          0.821180 -0.924717    -1.824525 -0.800613 -1.075715   \n",
       "\n",
       "    diag_34  dosechange  \n",
       "0  0.523126   -0.676636  \n",
       "1  0.310013   -0.676636  \n",
       "2  0.523126    0.877794  \n",
       "3 -0.968668    0.877794  \n",
       "4 -0.542441    0.877794  "
      ]
     },
     "execution_count": 93,
     "metadata": {},
     "output_type": "execute_result"
    }
   ],
   "source": [
    "final_pred = ['encounter_id', 'patient_id', 'race', 'gender', 'age', 'time_in_hospital',\n",
    " 'num_lab_procedures', 'num_procedures', 'num_medications', 'number_inpatient', 'diag_5', 'number_diagnoses',\n",
    " 'change', 'diabetesMed', 'diag_12', 'diag_23', 'diag_34', 'dosechange'\n",
    " ]\n",
    "\n",
    "\n",
    "\n",
    "dataforml = Readmission[final_pred]\n",
    "dataforml.head()"
   ]
  },
  {
   "cell_type": "code",
   "execution_count": 94,
   "id": "372e95e6",
   "metadata": {},
   "outputs": [],
   "source": [
    "# Separate Target Variable and Predictor Variables\n",
    "TargetVariable='readmitted'\n",
    "Predictors=dataforml.columns\n",
    "\n",
    "X=dataforml[Predictors].values\n",
    "y=Readmission[TargetVariable].values\n",
    "\n",
    "# Split the data into training and testing set\n",
    "from sklearn.model_selection import train_test_split\n",
    "X_train, X_test, y_train, y_test = train_test_split(X, y, test_size=0.3, random_state=428)"
   ]
  },
  {
   "cell_type": "markdown",
   "id": "b1403098",
   "metadata": {},
   "source": [
    "## Model Building"
   ]
  },
  {
   "cell_type": "code",
   "execution_count": 95,
   "id": "86089ab5",
   "metadata": {},
   "outputs": [
    {
     "name": "stdout",
     "output_type": "stream",
     "text": [
      "[[0.45321711 0.54678289]\n",
      " [0.70601266 0.29398734]\n",
      " [0.64269568 0.35730432]\n",
      " ...\n",
      " [0.3117421  0.6882579 ]\n",
      " [0.51657522 0.48342478]\n",
      " [0.5745319  0.4254681 ]]\n",
      "Train score : 0.6264750053636559\n",
      "Test score : 0.6217650297842519\n"
     ]
    }
   ],
   "source": [
    "# Logistic Regression\n",
    "from sklearn.linear_model import LogisticRegression\n",
    "\n",
    "LR = LogisticRegression(C=3,penalty='l1', solver='liblinear',random_state = 0)\n",
    "\n",
    "# Printing all the parameters of logistic regression\n",
    "# print(clf)\n",
    "\n",
    "# Creating the model on Training Data\n",
    "LOG=LR.fit(X_train,y_train)\n",
    "prediction=LOG.predict(X_test)\n",
    "prediction_prob = LOG.predict_proba(X_test)\n",
    "print(prediction_prob)\n",
    "#Train score\n",
    "print(\"Train score :\",LOG.score(X_train,y_train))\n",
    "#Test score\n",
    "print(\"Test score :\",LOG.score(X_test,y_test))"
   ]
  },
  {
   "cell_type": "markdown",
   "id": "ee090802",
   "metadata": {},
   "source": [
    "#### From above we can see that both Train and Test score are lower in range so this model can be classified as an 'Underfit' model"
   ]
  },
  {
   "cell_type": "code",
   "execution_count": 97,
   "id": "dab2d0b1",
   "metadata": {},
   "outputs": [
    {
     "name": "stdout",
     "output_type": "stream",
     "text": [
      "              precision    recall  f1-score   support\n",
      "\n",
      "           0       0.62      0.77      0.68     10608\n",
      "           1       0.63      0.46      0.53      9369\n",
      "\n",
      "    accuracy                           0.62     19977\n",
      "   macro avg       0.62      0.61      0.61     19977\n",
      "weighted avg       0.62      0.62      0.61     19977\n",
      "\n",
      "[[8146 5094]\n",
      " [2462 4275]]\n",
      "Accuracy of the model on Testing Sample Data: 0.61\n",
      "\n",
      "Accuracy values for 10-fold Cross Validation:\n",
      " [0.62729381 0.60876102 0.614413   0.62517346 0.62290802 0.61583659\n",
      " 0.61445691 0.60737376 0.61047941 0.60888537]\n",
      "\n",
      "Final Average Accuracy of the model: 0.62\n"
     ]
    }
   ],
   "source": [
    "# Measuring accuracy on Testing Data using F1 score\n",
    "from sklearn import metrics\n",
    "print(metrics.classification_report(y_test, prediction))\n",
    "print(metrics.confusion_matrix(prediction, y_test))\n",
    "\n",
    "# Printing the Overall Accuracy of the model\n",
    "F1_Score=metrics.f1_score(y_test, prediction, average='weighted')\n",
    "print('Accuracy of the model on Testing Sample Data:', round(F1_Score,2))\n",
    "\n",
    "# Importing cross validation function from sklearn\n",
    "from sklearn.model_selection import cross_val_score\n",
    "\n",
    "# Running 10-Fold Cross validation on a given algorithm\n",
    "# Passing full data X and y because the K-fold will split the data and automatically choose train/test\n",
    "Accuracy_Values=cross_val_score(LOG, X , y, cv=10, scoring='f1_weighted')\n",
    "print('\\nAccuracy values for 10-fold Cross Validation:\\n',Accuracy_Values)\n",
    "print('\\nFinal Average Accuracy of the model:', round(Accuracy_Values.mean(),2))"
   ]
  },
  {
   "cell_type": "code",
   "execution_count": 98,
   "id": "d1f72040",
   "metadata": {},
   "outputs": [
    {
     "data": {
      "image/png": "[encoded data removed]",
      "text/plain": [
       "<Figure size 432x288 with 1 Axes>"
      ]
     },
     "metadata": {
      "needs_background": "light"
     },
     "output_type": "display_data"
    },
    {
     "name": "stdout",
     "output_type": "stream",
     "text": [
      "AUC= 0.667\n"
     ]
    }
   ],
   "source": [
    "# roc-auc curve\n",
    "prediction_proba = LOG.predict_proba(X_test)[::,1]\n",
    "fpr, tpr, _ = metrics.roc_curve(y_test, prediction_proba)\n",
    "auc = metrics.roc_auc_score(y_test, prediction_proba)\n",
    "plt.plot(fpr,tpr)\n",
    "plt.ylabel('True Positive Rate')\n",
    "plt.xlabel('False Positive Rate')\n",
    "plt.show()\n",
    "print(\"AUC=\",round(auc,3))"
   ]
  },
  {
   "cell_type": "code",
   "execution_count": 99,
   "id": "b8986af5",
   "metadata": {},
   "outputs": [
    {
     "name": "stdout",
     "output_type": "stream",
     "text": [
      "RandomForestClassifier(max_depth=4, n_estimators=200)\n",
      "              precision    recall  f1-score   support\n",
      "\n",
      "           0       0.61      0.79      0.69     10608\n",
      "           1       0.64      0.42      0.51      9369\n",
      "\n",
      "    accuracy                           0.62     19977\n",
      "   macro avg       0.63      0.61      0.60     19977\n",
      "weighted avg       0.62      0.62      0.60     19977\n",
      "\n",
      "[[8425 2183]\n",
      " [5431 3938]]\n",
      "Accuracy of the model on Testing Sample Data: 0.6\n",
      "\n",
      "Accuracy values for 10-fold Cross Validation:\n",
      " [0.62156432 0.59811937 0.60502984 0.61513126 0.60935079 0.59983231\n",
      " 0.60569975 0.60017839 0.60188972 0.60205223]\n",
      "\n",
      "Final Average Accuracy of the model: 0.61\n"
     ]
    }
   ],
   "source": [
    "# Random Forest (Bagging of multiple Decision Trees)\n",
    "from sklearn.ensemble import RandomForestClassifier\n",
    "# Choose different hyperparameter values of max_depth, n_estimators and criterion to tune the model\n",
    "clf = RandomForestClassifier(max_depth=4, n_estimators=200,criterion='gini')\n",
    "\n",
    "# Printing all the parameters of Random Forest\n",
    "print(clf)\n",
    "\n",
    "# Creating the model on Training Data\n",
    "RF=clf.fit(X_train,y_train)\n",
    "prediction=RF.predict(X_test)\n",
    "\n",
    "# Measuring accuracy on Testing Data\n",
    "from sklearn import metrics\n",
    "print(metrics.classification_report(y_test, prediction))\n",
    "print(metrics.confusion_matrix(y_test, prediction))\n",
    "\n",
    "# Printing the Overall Accuracy of the model\n",
    "F1_Score=metrics.f1_score(y_test, prediction, average='weighted')\n",
    "print('Accuracy of the model on Testing Sample Data:', round(F1_Score,2))\n",
    "\n",
    "# Importing cross validation function from sklearn\n",
    "from sklearn.model_selection import cross_val_score\n",
    "\n",
    "# Running 10-Fold Cross validation on a given algorithm\n",
    "# Passing full data X and y because the K-fold will split the data and automatically choose train/test\n",
    "Accuracy_Values=cross_val_score(RF, X , y, cv=10, scoring='f1_weighted')\n",
    "print('\\nAccuracy values for 10-fold Cross Validation:\\n',Accuracy_Values)\n",
    "print('\\nFinal Average Accuracy of the model:', round(Accuracy_Values.mean(),2))"
   ]
  },
  {
   "cell_type": "markdown",
   "id": "09a5e5b4",
   "metadata": {},
   "source": [
    "### Check for multi-collinearity in final predictors and removing whose VIF > 5"
   ]
  },
  {
   "cell_type": "code",
   "execution_count": 100,
   "id": "a9ed1d50",
   "metadata": {},
   "outputs": [
    {
     "name": "stdout",
     "output_type": "stream",
     "text": [
      "               feature       VIF\n",
      "0         encounter_id  1.563418\n",
      "1           patient_id  1.502975\n",
      "2                 race  1.020406\n",
      "3               gender  1.012823\n",
      "4                  age  1.094085\n",
      "5     time_in_hospital  1.432877\n",
      "6   num_lab_procedures  1.160791\n",
      "7       num_procedures  1.199145\n",
      "8      num_medications  1.682044\n",
      "9     number_inpatient  1.041843\n",
      "10              diag_5  1.000879\n",
      "11    number_diagnoses  1.290054\n",
      "12              change  1.809501\n",
      "13         diabetesMed  1.367672\n",
      "14             diag_12  1.020919\n",
      "15             diag_23  1.016470\n",
      "16             diag_34  1.006975\n",
      "17          dosechange  1.494742\n"
     ]
    }
   ],
   "source": [
    "#Checking Multicollinearity of selected predictors\n",
    "from statsmodels.stats.outliers_influence import variance_inflation_factor\n",
    "\n",
    "vif_data = pd.DataFrame()\n",
    "\n",
    "vif_data[\"feature\"] = Predictors\n",
    "\n",
    "vif_data[\"VIF\"] = [variance_inflation_factor(dataforml[Predictors].values, i)\n",
    "                          for i in range(len(Predictors))]\n",
    "print(vif_data)"
   ]
  },
  {
   "cell_type": "markdown",
   "id": "201f78e7",
   "metadata": {},
   "source": [
    "Removed 'index' column from final predictor list due to its VIF of 36 and re-ran the model"
   ]
  }
 ],
 "metadata": {
  "kernelspec": {
   "display_name": "Python 3 (ipykernel)",
   "language": "python",
   "name": "python3"
  },
  "language_info": {
   "codemirror_mode": {
    "name": "ipython",
    "version": 3
   },
   "file_extension": ".py",
   "mimetype": "text/x-python",
   "name": "python",
   "nbconvert_exporter": "python",
   "pygments_lexer": "ipython3",
   "version": "3.9.12"
  }
 },
 "nbformat": 4,
 "nbformat_minor": 5
}
